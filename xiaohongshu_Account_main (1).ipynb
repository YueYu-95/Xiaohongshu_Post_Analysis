{
 "cells": [
  {
   "cell_type": "code",
   "execution_count": 166,
   "id": "610103aa",
   "metadata": {},
   "outputs": [],
   "source": [
    "import os\n",
    "import pandas as pd\n",
    "import matplotlib.pyplot as plt\n",
    "from matplotlib.font_manager import FontProperties"
   ]
  },
  {
   "cell_type": "code",
   "execution_count": 167,
   "id": "e6fb0ecc",
   "metadata": {},
   "outputs": [
    {
     "data": {
      "text/plain": [
       "0"
      ]
     },
     "execution_count": 167,
     "metadata": {},
     "output_type": "execute_result"
    }
   ],
   "source": [
    "#set your own directory\n",
    "os.chdir('D:/xiaohongshu')\n",
    "font_properties = FontProperties(fname='SimHei.ttf', size=12)\n",
    "df = pd.read_csv('小红书数据_Techlent数据科学社区.csv')\n",
    "df1 = df[df['观看量'].notna()]\n",
    "df1['观看量'].isnull().sum()"
   ]
  },
  {
   "cell_type": "code",
   "execution_count": 168,
   "id": "2b4d1d20",
   "metadata": {},
   "outputs": [
    {
     "data": {
      "text/html": [
       "<div>\n",
       "<style scoped>\n",
       "    .dataframe tbody tr th:only-of-type {\n",
       "        vertical-align: middle;\n",
       "    }\n",
       "\n",
       "    .dataframe tbody tr th {\n",
       "        vertical-align: top;\n",
       "    }\n",
       "\n",
       "    .dataframe thead th {\n",
       "        text-align: right;\n",
       "    }\n",
       "</style>\n",
       "<table border=\"1\" class=\"dataframe\">\n",
       "  <thead>\n",
       "    <tr style=\"text-align: right;\">\n",
       "      <th></th>\n",
       "      <th>笔记名称</th>\n",
       "      <th>笔记链接</th>\n",
       "      <th>发布日期</th>\n",
       "      <th>观看量</th>\n",
       "      <th>评论数</th>\n",
       "      <th>点赞量</th>\n",
       "      <th>分享数</th>\n",
       "      <th>收藏数</th>\n",
       "      <th>直接涨粉数</th>\n",
       "      <th>标签</th>\n",
       "      <th>类别</th>\n",
       "    </tr>\n",
       "  </thead>\n",
       "  <tbody>\n",
       "    <tr>\n",
       "      <th>0</th>\n",
       "      <td>Marketing Data Scientist 必须掌握的知识</td>\n",
       "      <td>https://www.xiaohongshu.com/explore/65361e7800...</td>\n",
       "      <td>10/23/2023</td>\n",
       "      <td>612.0</td>\n",
       "      <td>0.0</td>\n",
       "      <td>3.0</td>\n",
       "      <td>0.0</td>\n",
       "      <td>2.0</td>\n",
       "      <td>3.0</td>\n",
       "      <td>#数据科学\\n #DS #marketing #datascience #北美data求职 ...</td>\n",
       "      <td>干货分享</td>\n",
       "    </tr>\n",
       "    <tr>\n",
       "      <th>1</th>\n",
       "      <td>休斯顿数据科学家线下交流会</td>\n",
       "      <td>https://www.xiaohongshu.com/explore/6536803400...</td>\n",
       "      <td>10/23/2023</td>\n",
       "      <td>2102.0</td>\n",
       "      <td>5.0</td>\n",
       "      <td>19.0</td>\n",
       "      <td>10.0</td>\n",
       "      <td>7.0</td>\n",
       "      <td>14.0</td>\n",
       "      <td>#休斯顿生活\\n  #休斯顿大学 #休斯顿 #Rice大学 #休斯顿留学生 #数据科学 #数...</td>\n",
       "      <td>线下交流会</td>\n",
       "    </tr>\n",
       "    <tr>\n",
       "      <th>2</th>\n",
       "      <td>备战春招必看！数据科学一站式训练营推荐</td>\n",
       "      <td>https://www.xiaohongshu.com/explore/65376e5000...</td>\n",
       "      <td>10/24/2023</td>\n",
       "      <td>511.0</td>\n",
       "      <td>0.0</td>\n",
       "      <td>1.0</td>\n",
       "      <td>0.0</td>\n",
       "      <td>0.0</td>\n",
       "      <td>0.0</td>\n",
       "      <td>#数据科学 #春招 #留学生求职 #北美春招#北美data求职 #DS #data #dat...</td>\n",
       "      <td>报名截止日期</td>\n",
       "    </tr>\n",
       "    <tr>\n",
       "      <th>3</th>\n",
       "      <td>入职美国银行业 DS 半年，我都学到了什么？</td>\n",
       "      <td>https://www.xiaohongshu.com/explore/6538d29300...</td>\n",
       "      <td>10/25/2023</td>\n",
       "      <td>871.0</td>\n",
       "      <td>1.0</td>\n",
       "      <td>3.0</td>\n",
       "      <td>0.0</td>\n",
       "      <td>5.0</td>\n",
       "      <td>1.0</td>\n",
       "      <td>#今日份工作小结 #DS #数据科学 #北美data求职 #北美留学 #银行 #银行工作 #...</td>\n",
       "      <td>经验分享</td>\n",
       "    </tr>\n",
       "    <tr>\n",
       "      <th>4</th>\n",
       "      <td>DS 线下交流会！休斯顿地区的同学看过来！</td>\n",
       "      <td>https://www.xiaohongshu.com/explore/653b5a5600...</td>\n",
       "      <td>10/27/2023</td>\n",
       "      <td>542.0</td>\n",
       "      <td>0.0</td>\n",
       "      <td>0.0</td>\n",
       "      <td>0.0</td>\n",
       "      <td>0.0</td>\n",
       "      <td>0.0</td>\n",
       "      <td>#休斯顿 #休斯顿生活 #休斯顿大学 #Rice大学 #数据科学 #北美data求职 #数据...</td>\n",
       "      <td>线下交流会</td>\n",
       "    </tr>\n",
       "  </tbody>\n",
       "</table>\n",
       "</div>"
      ],
      "text/plain": [
       "                               笔记名称  \\\n",
       "0  Marketing Data Scientist 必须掌握的知识   \n",
       "1                     休斯顿数据科学家线下交流会   \n",
       "2               备战春招必看！数据科学一站式训练营推荐   \n",
       "3            入职美国银行业 DS 半年，我都学到了什么？   \n",
       "4             DS 线下交流会！休斯顿地区的同学看过来！   \n",
       "\n",
       "                                                笔记链接        发布日期     观看量  评论数  \\\n",
       "0  https://www.xiaohongshu.com/explore/65361e7800...  10/23/2023   612.0  0.0   \n",
       "1  https://www.xiaohongshu.com/explore/6536803400...  10/23/2023  2102.0  5.0   \n",
       "2  https://www.xiaohongshu.com/explore/65376e5000...  10/24/2023   511.0  0.0   \n",
       "3  https://www.xiaohongshu.com/explore/6538d29300...  10/25/2023   871.0  1.0   \n",
       "4  https://www.xiaohongshu.com/explore/653b5a5600...  10/27/2023   542.0  0.0   \n",
       "\n",
       "    点赞量   分享数  收藏数  直接涨粉数                                                 标签  \\\n",
       "0   3.0   0.0  2.0    3.0  #数据科学\\n #DS #marketing #datascience #北美data求职 ...   \n",
       "1  19.0  10.0  7.0   14.0  #休斯顿生活\\n  #休斯顿大学 #休斯顿 #Rice大学 #休斯顿留学生 #数据科学 #数...   \n",
       "2   1.0   0.0  0.0    0.0  #数据科学 #春招 #留学生求职 #北美春招#北美data求职 #DS #data #dat...   \n",
       "3   3.0   0.0  5.0    1.0  #今日份工作小结 #DS #数据科学 #北美data求职 #北美留学 #银行 #银行工作 #...   \n",
       "4   0.0   0.0  0.0    0.0  #休斯顿 #休斯顿生活 #休斯顿大学 #Rice大学 #数据科学 #北美data求职 #数据...   \n",
       "\n",
       "       类别  \n",
       "0    干货分享  \n",
       "1   线下交流会  \n",
       "2  报名截止日期  \n",
       "3    经验分享  \n",
       "4   线下交流会  "
      ]
     },
     "execution_count": 168,
     "metadata": {},
     "output_type": "execute_result"
    }
   ],
   "source": [
    "df1.head()"
   ]
  },
  {
   "cell_type": "code",
   "execution_count": 169,
   "id": "90fcaf60",
   "metadata": {},
   "outputs": [],
   "source": [
    "df2 = df1.groupby('类别')['观看量'].mean()"
   ]
  },
  {
   "cell_type": "code",
   "execution_count": 170,
   "id": "bb2025b7",
   "metadata": {},
   "outputs": [
    {
     "name": "stdout",
     "output_type": "stream",
     "text": [
      "类别\n",
      "其他          1008.000000\n",
      "周三直播预告       467.000000\n",
      "干货分享         657.562500\n",
      "报名截止日期       522.222222\n",
      "直播通知         537.600000\n",
      "线下交流会        882.250000\n",
      "经验分享         712.555556\n",
      "经验分享直播预告     688.000000\n",
      "课程宣传         527.750000\n",
      "课程直播预告       533.000000\n",
      "Name: 观看量, dtype: float64\n"
     ]
    }
   ],
   "source": [
    "print(df2)"
   ]
  },
  {
   "cell_type": "code",
   "execution_count": 171,
   "id": "5954963c",
   "metadata": {},
   "outputs": [
    {
     "data": {
      "image/png": "[encoded data removed]",
      "text/plain": [
       "<Figure size 640x480 with 1 Axes>"
      ]
     },
     "metadata": {},
     "output_type": "display_data"
    }
   ],
   "source": [
    "\n",
    "font = {'family': 'Microsoft YaHei', 'size': 12}\n",
    "plt.rc('font', **font)\n",
    "df2.plot(kind='bar', color='skyblue', edgecolor='black')\n",
    "plt.title('Average views of different types of posts')\n",
    "plt.xlabel('Posts type')\n",
    "plt.ylabel('views')\n",
    "plt.show()"
   ]
  },
  {
   "cell_type": "code",
   "execution_count": 172,
   "id": "d5562368",
   "metadata": {},
   "outputs": [
    {
     "data": {
      "text/html": [
       "<div>\n",
       "<style scoped>\n",
       "    .dataframe tbody tr th:only-of-type {\n",
       "        vertical-align: middle;\n",
       "    }\n",
       "\n",
       "    .dataframe tbody tr th {\n",
       "        vertical-align: top;\n",
       "    }\n",
       "\n",
       "    .dataframe thead th {\n",
       "        text-align: right;\n",
       "    }\n",
       "</style>\n",
       "<table border=\"1\" class=\"dataframe\">\n",
       "  <thead>\n",
       "    <tr style=\"text-align: right;\">\n",
       "      <th></th>\n",
       "      <th>笔记名称</th>\n",
       "      <th>笔记链接</th>\n",
       "      <th>发布日期</th>\n",
       "      <th>观看量</th>\n",
       "      <th>评论数</th>\n",
       "      <th>点赞量</th>\n",
       "      <th>分享数</th>\n",
       "      <th>收藏数</th>\n",
       "      <th>直接涨粉数</th>\n",
       "      <th>标签</th>\n",
       "      <th>类别</th>\n",
       "    </tr>\n",
       "  </thead>\n",
       "  <tbody>\n",
       "    <tr>\n",
       "      <th>41</th>\n",
       "      <td>美国休斯顿大学健康医学 DS 课题组招人啦！</td>\n",
       "      <td>https://www.xiaohongshu.com/explore/6584ee1600...</td>\n",
       "      <td>12/21/2023</td>\n",
       "      <td>1008.0</td>\n",
       "      <td>0.0</td>\n",
       "      <td>14.0</td>\n",
       "      <td>9.0</td>\n",
       "      <td>12.0</td>\n",
       "      <td>5.0</td>\n",
       "      <td>#留学申请季 #研究生申请 #留学美国 #美国留学申请 #美国留学生 #美国研究生 #美国研...</td>\n",
       "      <td>其他</td>\n",
       "    </tr>\n",
       "  </tbody>\n",
       "</table>\n",
       "</div>"
      ],
      "text/plain": [
       "                      笔记名称                                               笔记链接  \\\n",
       "41  美国休斯顿大学健康医学 DS 课题组招人啦！  https://www.xiaohongshu.com/explore/6584ee1600...   \n",
       "\n",
       "          发布日期     观看量  评论数   点赞量  分享数   收藏数  直接涨粉数  \\\n",
       "41  12/21/2023  1008.0  0.0  14.0  9.0  12.0    5.0   \n",
       "\n",
       "                                                   标签  类别  \n",
       "41  #留学申请季 #研究生申请 #留学美国 #美国留学申请 #美国留学生 #美国研究生 #美国研...  其他  "
      ]
     },
     "execution_count": 172,
     "metadata": {},
     "output_type": "execute_result"
    }
   ],
   "source": [
    "df1[df1['类别'] == '其他']"
   ]
  },
  {
   "cell_type": "code",
   "execution_count": 173,
   "id": "2cf69257",
   "metadata": {},
   "outputs": [
    {
     "name": "stdout",
     "output_type": "stream",
     "text": [
      "          观看量   评论数       点赞量       分享数       收藏数  直接涨粉数\n",
      "0  639.890625  0.25  1.796875  0.921875  1.234375  0.875\n"
     ]
    }
   ],
   "source": [
    "df3 = df1[df1['类别'] != '其他']\n",
    "column_means = df3[['观看量', '评论数', '点赞量', '分享数', '收藏数', '直接涨粉数']].mean()\n",
    "column_means_df = pd.DataFrame(column_means).T\n",
    "print(column_means_df)\n",
    "outlier = df1[df1['类别'] == '其他']\n",
    "outlier_stats = outlier[['观看量', '评论数', '点赞量', '分享数', '收藏数', '直接涨粉数']]"
   ]
  },
  {
   "cell_type": "code",
   "execution_count": 174,
   "id": "cdb18f7a",
   "metadata": {},
   "outputs": [],
   "source": [
    "compare = pd.concat([column_means_df,outlier_stats],keys=['观看量', '评论数', '点赞量', '分享数', '收藏数', '直接涨粉数'])"
   ]
  },
  {
   "cell_type": "code",
   "execution_count": 175,
   "id": "75246cb8",
   "metadata": {},
   "outputs": [
    {
     "data": {
      "text/html": [
       "<div>\n",
       "<style scoped>\n",
       "    .dataframe tbody tr th:only-of-type {\n",
       "        vertical-align: middle;\n",
       "    }\n",
       "\n",
       "    .dataframe tbody tr th {\n",
       "        vertical-align: top;\n",
       "    }\n",
       "\n",
       "    .dataframe thead th {\n",
       "        text-align: right;\n",
       "    }\n",
       "</style>\n",
       "<table border=\"1\" class=\"dataframe\">\n",
       "  <thead>\n",
       "    <tr style=\"text-align: right;\">\n",
       "      <th></th>\n",
       "      <th></th>\n",
       "      <th>观看量</th>\n",
       "      <th>评论数</th>\n",
       "      <th>点赞量</th>\n",
       "      <th>分享数</th>\n",
       "      <th>收藏数</th>\n",
       "      <th>直接涨粉数</th>\n",
       "    </tr>\n",
       "  </thead>\n",
       "  <tbody>\n",
       "    <tr>\n",
       "      <th>观看量</th>\n",
       "      <th>0</th>\n",
       "      <td>639.890625</td>\n",
       "      <td>0.25</td>\n",
       "      <td>1.796875</td>\n",
       "      <td>0.921875</td>\n",
       "      <td>1.234375</td>\n",
       "      <td>0.875</td>\n",
       "    </tr>\n",
       "    <tr>\n",
       "      <th>评论数</th>\n",
       "      <th>41</th>\n",
       "      <td>1008.000000</td>\n",
       "      <td>0.00</td>\n",
       "      <td>14.000000</td>\n",
       "      <td>9.000000</td>\n",
       "      <td>12.000000</td>\n",
       "      <td>5.000</td>\n",
       "    </tr>\n",
       "  </tbody>\n",
       "</table>\n",
       "</div>"
      ],
      "text/plain": [
       "                观看量   评论数        点赞量       分享数        收藏数  直接涨粉数\n",
       "观看量 0    639.890625  0.25   1.796875  0.921875   1.234375  0.875\n",
       "评论数 41  1008.000000  0.00  14.000000  9.000000  12.000000  5.000"
      ]
     },
     "execution_count": 175,
     "metadata": {},
     "output_type": "execute_result"
    }
   ],
   "source": [
    "compare"
   ]
  },
  {
   "cell_type": "code",
   "execution_count": 176,
   "id": "6083d857",
   "metadata": {},
   "outputs": [],
   "source": [
    "compare.index = ['average', 'outlier']\n",
    "compare_views = compare.iloc[:,0]\n",
    "compare_others = compare.iloc[:,1:]"
   ]
  },
  {
   "cell_type": "code",
   "execution_count": 177,
   "id": "69114c2c",
   "metadata": {},
   "outputs": [
    {
     "data": {
      "image/png": "[encoded data removed]",
      "text/plain": [
       "<Figure size 640x480 with 1 Axes>"
      ]
     },
     "metadata": {},
     "output_type": "display_data"
    }
   ],
   "source": [
    "compare_views.T.plot(kind='bar', color=['skyblue', 'orange'])\n",
    "plt.title('Comparison of Views')\n",
    "plt.xlabel('Metrics')\n",
    "plt.ylabel('Values')\n",
    "plt.show()"
   ]
  },
  {
   "cell_type": "code",
   "execution_count": 178,
   "id": "2a8ffb6b",
   "metadata": {},
   "outputs": [
    {
     "data": {
      "image/png": "[encoded data removed]",
      "text/plain": [
       "<Figure size 640x480 with 1 Axes>"
      ]
     },
     "metadata": {},
     "output_type": "display_data"
    }
   ],
   "source": [
    "compare_others.T.plot(kind='bar', color=['skyblue', 'orange'])\n",
    "plt.title('Comparison of Stats')\n",
    "plt.xlabel('Metrics')\n",
    "plt.ylabel('Values')\n",
    "plt.show()"
   ]
  },
  {
   "cell_type": "code",
   "execution_count": 179,
   "id": "6b54b092",
   "metadata": {},
   "outputs": [],
   "source": [
    "df3 = df1[df1['类别'] != '其他']"
   ]
  },
  {
   "cell_type": "code",
   "execution_count": 180,
   "id": "3b1ff7fa",
   "metadata": {},
   "outputs": [
    {
     "data": {
      "text/html": [
       "<div>\n",
       "<style scoped>\n",
       "    .dataframe tbody tr th:only-of-type {\n",
       "        vertical-align: middle;\n",
       "    }\n",
       "\n",
       "    .dataframe tbody tr th {\n",
       "        vertical-align: top;\n",
       "    }\n",
       "\n",
       "    .dataframe thead th {\n",
       "        text-align: right;\n",
       "    }\n",
       "</style>\n",
       "<table border=\"1\" class=\"dataframe\">\n",
       "  <thead>\n",
       "    <tr style=\"text-align: right;\">\n",
       "      <th></th>\n",
       "      <th>笔记名称</th>\n",
       "      <th>笔记链接</th>\n",
       "      <th>发布日期</th>\n",
       "      <th>观看量</th>\n",
       "      <th>评论数</th>\n",
       "      <th>点赞量</th>\n",
       "      <th>分享数</th>\n",
       "      <th>收藏数</th>\n",
       "      <th>直接涨粉数</th>\n",
       "      <th>标签</th>\n",
       "      <th>类别</th>\n",
       "    </tr>\n",
       "  </thead>\n",
       "  <tbody>\n",
       "    <tr>\n",
       "      <th>0</th>\n",
       "      <td>Marketing Data Scientist 必须掌握的知识</td>\n",
       "      <td>https://www.xiaohongshu.com/explore/65361e7800...</td>\n",
       "      <td>10/23/2023</td>\n",
       "      <td>612.0</td>\n",
       "      <td>0.0</td>\n",
       "      <td>3.0</td>\n",
       "      <td>0.0</td>\n",
       "      <td>2.0</td>\n",
       "      <td>3.0</td>\n",
       "      <td>#数据科学\\n #DS #marketing #datascience #北美data求职 ...</td>\n",
       "      <td>干货分享</td>\n",
       "    </tr>\n",
       "    <tr>\n",
       "      <th>1</th>\n",
       "      <td>休斯顿数据科学家线下交流会</td>\n",
       "      <td>https://www.xiaohongshu.com/explore/6536803400...</td>\n",
       "      <td>10/23/2023</td>\n",
       "      <td>2102.0</td>\n",
       "      <td>5.0</td>\n",
       "      <td>19.0</td>\n",
       "      <td>10.0</td>\n",
       "      <td>7.0</td>\n",
       "      <td>14.0</td>\n",
       "      <td>#休斯顿生活\\n  #休斯顿大学 #休斯顿 #Rice大学 #休斯顿留学生 #数据科学 #数...</td>\n",
       "      <td>线下交流会</td>\n",
       "    </tr>\n",
       "    <tr>\n",
       "      <th>2</th>\n",
       "      <td>备战春招必看！数据科学一站式训练营推荐</td>\n",
       "      <td>https://www.xiaohongshu.com/explore/65376e5000...</td>\n",
       "      <td>10/24/2023</td>\n",
       "      <td>511.0</td>\n",
       "      <td>0.0</td>\n",
       "      <td>1.0</td>\n",
       "      <td>0.0</td>\n",
       "      <td>0.0</td>\n",
       "      <td>0.0</td>\n",
       "      <td>#数据科学 #春招 #留学生求职 #北美春招#北美data求职 #DS #data #dat...</td>\n",
       "      <td>报名截止日期</td>\n",
       "    </tr>\n",
       "    <tr>\n",
       "      <th>3</th>\n",
       "      <td>入职美国银行业 DS 半年，我都学到了什么？</td>\n",
       "      <td>https://www.xiaohongshu.com/explore/6538d29300...</td>\n",
       "      <td>10/25/2023</td>\n",
       "      <td>871.0</td>\n",
       "      <td>1.0</td>\n",
       "      <td>3.0</td>\n",
       "      <td>0.0</td>\n",
       "      <td>5.0</td>\n",
       "      <td>1.0</td>\n",
       "      <td>#今日份工作小结 #DS #数据科学 #北美data求职 #北美留学 #银行 #银行工作 #...</td>\n",
       "      <td>经验分享</td>\n",
       "    </tr>\n",
       "    <tr>\n",
       "      <th>4</th>\n",
       "      <td>DS 线下交流会！休斯顿地区的同学看过来！</td>\n",
       "      <td>https://www.xiaohongshu.com/explore/653b5a5600...</td>\n",
       "      <td>10/27/2023</td>\n",
       "      <td>542.0</td>\n",
       "      <td>0.0</td>\n",
       "      <td>0.0</td>\n",
       "      <td>0.0</td>\n",
       "      <td>0.0</td>\n",
       "      <td>0.0</td>\n",
       "      <td>#休斯顿 #休斯顿生活 #休斯顿大学 #Rice大学 #数据科学 #北美data求职 #数据...</td>\n",
       "      <td>线下交流会</td>\n",
       "    </tr>\n",
       "    <tr>\n",
       "      <th>...</th>\n",
       "      <td>...</td>\n",
       "      <td>...</td>\n",
       "      <td>...</td>\n",
       "      <td>...</td>\n",
       "      <td>...</td>\n",
       "      <td>...</td>\n",
       "      <td>...</td>\n",
       "      <td>...</td>\n",
       "      <td>...</td>\n",
       "      <td>...</td>\n",
       "      <td>...</td>\n",
       "    </tr>\n",
       "    <tr>\n",
       "      <th>60</th>\n",
       "      <td>春招在即，应届生一定要做好这些求职准备！</td>\n",
       "      <td>https://www.xiaohongshu.com/explore/65a630cf00...</td>\n",
       "      <td>01/16/2023</td>\n",
       "      <td>400.0</td>\n",
       "      <td>0.0</td>\n",
       "      <td>0.0</td>\n",
       "      <td>0.0</td>\n",
       "      <td>0.0</td>\n",
       "      <td>0.0</td>\n",
       "      <td>#应届生找工作 #应届毕业生 #应届毕业生找工作 #春招 #应届生 #应届生求职 #校招 #...</td>\n",
       "      <td>干货分享</td>\n",
       "    </tr>\n",
       "    <tr>\n",
       "      <th>61</th>\n",
       "      <td>直播答疑预告：北美数据科学求职</td>\n",
       "      <td>https://www.xiaohongshu.com/explore/65a73ac300...</td>\n",
       "      <td>01/16/2024</td>\n",
       "      <td>467.0</td>\n",
       "      <td>0.0</td>\n",
       "      <td>0.0</td>\n",
       "      <td>0.0</td>\n",
       "      <td>0.0</td>\n",
       "      <td>0.0</td>\n",
       "      <td>#数据科学 #数据分析求职 #北美data求职 #北美求职 #美国求职 #美国data求职 ...</td>\n",
       "      <td>周三直播预告</td>\n",
       "    </tr>\n",
       "    <tr>\n",
       "      <th>62</th>\n",
       "      <td>零基础友好!数据科学 Boot Camp</td>\n",
       "      <td>https://www.xiaohongshu.com/explore/65a797aa00...</td>\n",
       "      <td>01/17/2024</td>\n",
       "      <td>512.0</td>\n",
       "      <td>2.0</td>\n",
       "      <td>2.0</td>\n",
       "      <td>0.0</td>\n",
       "      <td>1.0</td>\n",
       "      <td>1.0</td>\n",
       "      <td>#数据科学 #北美data求职 #数据科学求职 #机器学习 #python学习 #DS #美...</td>\n",
       "      <td>课程宣传</td>\n",
       "    </tr>\n",
       "    <tr>\n",
       "      <th>63</th>\n",
       "      <td>AI 领域大佬手把手带你入门！LLM 课程推荐</td>\n",
       "      <td>https://www.xiaohongshu.com/explore/65aa268300...</td>\n",
       "      <td>01/19/2023</td>\n",
       "      <td>470.0</td>\n",
       "      <td>0.0</td>\n",
       "      <td>0.0</td>\n",
       "      <td>2.0</td>\n",
       "      <td>0.0</td>\n",
       "      <td>0.0</td>\n",
       "      <td>#LLM #大语言模型 #ai #AI #人工智能 #玩转人工智能 #chatgpt #ch...</td>\n",
       "      <td>课程宣传</td>\n",
       "    </tr>\n",
       "    <tr>\n",
       "      <th>64</th>\n",
       "      <td>跟着AI大佬学了两个月大语言模型是什么体验</td>\n",
       "      <td>https://www.xiaohongshu.com/explore/65af7de200...</td>\n",
       "      <td>01/23/2024</td>\n",
       "      <td>402.0</td>\n",
       "      <td>0.0</td>\n",
       "      <td>0.0</td>\n",
       "      <td>0.0</td>\n",
       "      <td>0.0</td>\n",
       "      <td>0.0</td>\n",
       "      <td>#LLM #大语言模型 #ai #AI #人工智能 #chatgpt #机器学习 #Tech...</td>\n",
       "      <td>课程宣传</td>\n",
       "    </tr>\n",
       "  </tbody>\n",
       "</table>\n",
       "<p>64 rows × 11 columns</p>\n",
       "</div>"
      ],
      "text/plain": [
       "                                笔记名称  \\\n",
       "0   Marketing Data Scientist 必须掌握的知识   \n",
       "1                      休斯顿数据科学家线下交流会   \n",
       "2                备战春招必看！数据科学一站式训练营推荐   \n",
       "3             入职美国银行业 DS 半年，我都学到了什么？   \n",
       "4              DS 线下交流会！休斯顿地区的同学看过来！   \n",
       "..                               ...   \n",
       "60              春招在即，应届生一定要做好这些求职准备！   \n",
       "61                   直播答疑预告：北美数据科学求职   \n",
       "62              零基础友好!数据科学 Boot Camp   \n",
       "63           AI 领域大佬手把手带你入门！LLM 课程推荐   \n",
       "64             跟着AI大佬学了两个月大语言模型是什么体验   \n",
       "\n",
       "                                                 笔记链接        发布日期     观看量  \\\n",
       "0   https://www.xiaohongshu.com/explore/65361e7800...  10/23/2023   612.0   \n",
       "1   https://www.xiaohongshu.com/explore/6536803400...  10/23/2023  2102.0   \n",
       "2   https://www.xiaohongshu.com/explore/65376e5000...  10/24/2023   511.0   \n",
       "3   https://www.xiaohongshu.com/explore/6538d29300...  10/25/2023   871.0   \n",
       "4   https://www.xiaohongshu.com/explore/653b5a5600...  10/27/2023   542.0   \n",
       "..                                                ...         ...     ...   \n",
       "60  https://www.xiaohongshu.com/explore/65a630cf00...  01/16/2023   400.0   \n",
       "61  https://www.xiaohongshu.com/explore/65a73ac300...  01/16/2024   467.0   \n",
       "62  https://www.xiaohongshu.com/explore/65a797aa00...  01/17/2024   512.0   \n",
       "63  https://www.xiaohongshu.com/explore/65aa268300...  01/19/2023   470.0   \n",
       "64  https://www.xiaohongshu.com/explore/65af7de200...  01/23/2024   402.0   \n",
       "\n",
       "    评论数   点赞量   分享数  收藏数  直接涨粉数  \\\n",
       "0   0.0   3.0   0.0  2.0    3.0   \n",
       "1   5.0  19.0  10.0  7.0   14.0   \n",
       "2   0.0   1.0   0.0  0.0    0.0   \n",
       "3   1.0   3.0   0.0  5.0    1.0   \n",
       "4   0.0   0.0   0.0  0.0    0.0   \n",
       "..  ...   ...   ...  ...    ...   \n",
       "60  0.0   0.0   0.0  0.0    0.0   \n",
       "61  0.0   0.0   0.0  0.0    0.0   \n",
       "62  2.0   2.0   0.0  1.0    1.0   \n",
       "63  0.0   0.0   2.0  0.0    0.0   \n",
       "64  0.0   0.0   0.0  0.0    0.0   \n",
       "\n",
       "                                                   标签      类别  \n",
       "0   #数据科学\\n #DS #marketing #datascience #北美data求职 ...    干货分享  \n",
       "1   #休斯顿生活\\n  #休斯顿大学 #休斯顿 #Rice大学 #休斯顿留学生 #数据科学 #数...   线下交流会  \n",
       "2   #数据科学 #春招 #留学生求职 #北美春招#北美data求职 #DS #data #dat...  报名截止日期  \n",
       "3   #今日份工作小结 #DS #数据科学 #北美data求职 #北美留学 #银行 #银行工作 #...    经验分享  \n",
       "4   #休斯顿 #休斯顿生活 #休斯顿大学 #Rice大学 #数据科学 #北美data求职 #数据...   线下交流会  \n",
       "..                                                ...     ...  \n",
       "60  #应届生找工作 #应届毕业生 #应届毕业生找工作 #春招 #应届生 #应届生求职 #校招 #...    干货分享  \n",
       "61  #数据科学 #数据分析求职 #北美data求职 #北美求职 #美国求职 #美国data求职 ...  周三直播预告  \n",
       "62  #数据科学 #北美data求职 #数据科学求职 #机器学习 #python学习 #DS #美...    课程宣传  \n",
       "63  #LLM #大语言模型 #ai #AI #人工智能 #玩转人工智能 #chatgpt #ch...    课程宣传  \n",
       "64  #LLM #大语言模型 #ai #AI #人工智能 #chatgpt #机器学习 #Tech...    课程宣传  \n",
       "\n",
       "[64 rows x 11 columns]"
      ]
     },
     "execution_count": 180,
     "metadata": {},
     "output_type": "execute_result"
    }
   ],
   "source": [
    "df3"
   ]
  },
  {
   "cell_type": "code",
   "execution_count": 181,
   "id": "50be12d2",
   "metadata": {},
   "outputs": [],
   "source": [
    "df_mean = df3.groupby('类别')[['评论数','点赞量','分享数','收藏数','直接涨粉数']].mean()"
   ]
  },
  {
   "cell_type": "code",
   "execution_count": 182,
   "id": "d40f8b0e",
   "metadata": {},
   "outputs": [
    {
     "data": {
      "text/html": [
       "<div>\n",
       "<style scoped>\n",
       "    .dataframe tbody tr th:only-of-type {\n",
       "        vertical-align: middle;\n",
       "    }\n",
       "\n",
       "    .dataframe tbody tr th {\n",
       "        vertical-align: top;\n",
       "    }\n",
       "\n",
       "    .dataframe thead th {\n",
       "        text-align: right;\n",
       "    }\n",
       "</style>\n",
       "<table border=\"1\" class=\"dataframe\">\n",
       "  <thead>\n",
       "    <tr style=\"text-align: right;\">\n",
       "      <th></th>\n",
       "      <th>评论数</th>\n",
       "      <th>点赞量</th>\n",
       "      <th>分享数</th>\n",
       "      <th>收藏数</th>\n",
       "      <th>直接涨粉数</th>\n",
       "    </tr>\n",
       "    <tr>\n",
       "      <th>类别</th>\n",
       "      <th></th>\n",
       "      <th></th>\n",
       "      <th></th>\n",
       "      <th></th>\n",
       "      <th></th>\n",
       "    </tr>\n",
       "  </thead>\n",
       "  <tbody>\n",
       "    <tr>\n",
       "      <th>周三直播预告</th>\n",
       "      <td>0.000000</td>\n",
       "      <td>0.000000</td>\n",
       "      <td>0.000000</td>\n",
       "      <td>0.000000</td>\n",
       "      <td>0.000000</td>\n",
       "    </tr>\n",
       "    <tr>\n",
       "      <th>干货分享</th>\n",
       "      <td>0.000000</td>\n",
       "      <td>2.500000</td>\n",
       "      <td>0.500000</td>\n",
       "      <td>2.562500</td>\n",
       "      <td>0.750000</td>\n",
       "    </tr>\n",
       "    <tr>\n",
       "      <th>报名截止日期</th>\n",
       "      <td>0.222222</td>\n",
       "      <td>0.666667</td>\n",
       "      <td>0.444444</td>\n",
       "      <td>0.222222</td>\n",
       "      <td>0.666667</td>\n",
       "    </tr>\n",
       "    <tr>\n",
       "      <th>直播通知</th>\n",
       "      <td>0.000000</td>\n",
       "      <td>0.600000</td>\n",
       "      <td>1.600000</td>\n",
       "      <td>0.200000</td>\n",
       "      <td>1.000000</td>\n",
       "    </tr>\n",
       "    <tr>\n",
       "      <th>线下交流会</th>\n",
       "      <td>0.875000</td>\n",
       "      <td>5.125000</td>\n",
       "      <td>2.875000</td>\n",
       "      <td>1.500000</td>\n",
       "      <td>3.000000</td>\n",
       "    </tr>\n",
       "    <tr>\n",
       "      <th>经验分享</th>\n",
       "      <td>0.111111</td>\n",
       "      <td>1.000000</td>\n",
       "      <td>0.333333</td>\n",
       "      <td>1.333333</td>\n",
       "      <td>0.333333</td>\n",
       "    </tr>\n",
       "    <tr>\n",
       "      <th>经验分享直播预告</th>\n",
       "      <td>0.000000</td>\n",
       "      <td>1.500000</td>\n",
       "      <td>1.000000</td>\n",
       "      <td>1.250000</td>\n",
       "      <td>0.750000</td>\n",
       "    </tr>\n",
       "    <tr>\n",
       "      <th>课程宣传</th>\n",
       "      <td>0.750000</td>\n",
       "      <td>1.000000</td>\n",
       "      <td>0.875000</td>\n",
       "      <td>0.500000</td>\n",
       "      <td>0.250000</td>\n",
       "    </tr>\n",
       "    <tr>\n",
       "      <th>课程直播预告</th>\n",
       "      <td>0.000000</td>\n",
       "      <td>0.500000</td>\n",
       "      <td>0.500000</td>\n",
       "      <td>0.500000</td>\n",
       "      <td>0.250000</td>\n",
       "    </tr>\n",
       "  </tbody>\n",
       "</table>\n",
       "</div>"
      ],
      "text/plain": [
       "               评论数       点赞量       分享数       收藏数     直接涨粉数\n",
       "类别                                                        \n",
       "周三直播预告    0.000000  0.000000  0.000000  0.000000  0.000000\n",
       "干货分享      0.000000  2.500000  0.500000  2.562500  0.750000\n",
       "报名截止日期    0.222222  0.666667  0.444444  0.222222  0.666667\n",
       "直播通知      0.000000  0.600000  1.600000  0.200000  1.000000\n",
       "线下交流会     0.875000  5.125000  2.875000  1.500000  3.000000\n",
       "经验分享      0.111111  1.000000  0.333333  1.333333  0.333333\n",
       "经验分享直播预告  0.000000  1.500000  1.000000  1.250000  0.750000\n",
       "课程宣传      0.750000  1.000000  0.875000  0.500000  0.250000\n",
       "课程直播预告    0.000000  0.500000  0.500000  0.500000  0.250000"
      ]
     },
     "execution_count": 182,
     "metadata": {},
     "output_type": "execute_result"
    }
   ],
   "source": [
    "df_mean"
   ]
  },
  {
   "cell_type": "code",
   "execution_count": 183,
   "id": "d3957f9c",
   "metadata": {},
   "outputs": [
    {
     "data": {
      "image/png": "[encoded data removed]",
      "text/plain": [
       "<Figure size 640x480 with 1 Axes>"
      ]
     },
     "metadata": {},
     "output_type": "display_data"
    }
   ],
   "source": [
    "font = {'family': 'Microsoft YaHei', 'size': 12}\n",
    "plt.rc('font', **font)\n",
    "df_mean.plot(kind='bar', color=['skyblue','red','green','yellow','pink'], edgecolor='black',width = 0.8,)\n",
    "plt.title('Average views of different types of posts')\n",
    "plt.xlabel('Posts type')\n",
    "plt.ylabel('views')\n",
    "plt.show()"
   ]
  },
  {
   "cell_type": "code",
   "execution_count": 184,
   "id": "96e66065",
   "metadata": {},
   "outputs": [],
   "source": [
    "cat_count = df3['类别'].value_counts()"
   ]
  },
  {
   "cell_type": "code",
   "execution_count": 185,
   "id": "8de7333b",
   "metadata": {},
   "outputs": [
    {
     "data": {
      "text/plain": [
       "类别\n",
       "干货分享        16\n",
       "报名截止日期       9\n",
       "经验分享         9\n",
       "线下交流会        8\n",
       "课程宣传         8\n",
       "直播通知         5\n",
       "课程直播预告       4\n",
       "经验分享直播预告     4\n",
       "周三直播预告       1\n",
       "Name: count, dtype: int64"
      ]
     },
     "execution_count": 185,
     "metadata": {},
     "output_type": "execute_result"
    }
   ],
   "source": [
    "cat_count"
   ]
  },
  {
   "cell_type": "code",
   "execution_count": 186,
   "id": "017e0a08",
   "metadata": {},
   "outputs": [],
   "source": [
    "df_mean['发布次数'] = cat_count"
   ]
  },
  {
   "cell_type": "code",
   "execution_count": 187,
   "id": "3d517816",
   "metadata": {},
   "outputs": [
    {
     "data": {
      "text/html": [
       "<div>\n",
       "<style scoped>\n",
       "    .dataframe tbody tr th:only-of-type {\n",
       "        vertical-align: middle;\n",
       "    }\n",
       "\n",
       "    .dataframe tbody tr th {\n",
       "        vertical-align: top;\n",
       "    }\n",
       "\n",
       "    .dataframe thead th {\n",
       "        text-align: right;\n",
       "    }\n",
       "</style>\n",
       "<table border=\"1\" class=\"dataframe\">\n",
       "  <thead>\n",
       "    <tr style=\"text-align: right;\">\n",
       "      <th></th>\n",
       "      <th>评论数</th>\n",
       "      <th>点赞量</th>\n",
       "      <th>分享数</th>\n",
       "      <th>收藏数</th>\n",
       "      <th>直接涨粉数</th>\n",
       "      <th>发布次数</th>\n",
       "    </tr>\n",
       "    <tr>\n",
       "      <th>类别</th>\n",
       "      <th></th>\n",
       "      <th></th>\n",
       "      <th></th>\n",
       "      <th></th>\n",
       "      <th></th>\n",
       "      <th></th>\n",
       "    </tr>\n",
       "  </thead>\n",
       "  <tbody>\n",
       "    <tr>\n",
       "      <th>周三直播预告</th>\n",
       "      <td>0.000000</td>\n",
       "      <td>0.000000</td>\n",
       "      <td>0.000000</td>\n",
       "      <td>0.000000</td>\n",
       "      <td>0.000000</td>\n",
       "      <td>1</td>\n",
       "    </tr>\n",
       "    <tr>\n",
       "      <th>干货分享</th>\n",
       "      <td>0.000000</td>\n",
       "      <td>2.500000</td>\n",
       "      <td>0.500000</td>\n",
       "      <td>2.562500</td>\n",
       "      <td>0.750000</td>\n",
       "      <td>16</td>\n",
       "    </tr>\n",
       "    <tr>\n",
       "      <th>报名截止日期</th>\n",
       "      <td>0.222222</td>\n",
       "      <td>0.666667</td>\n",
       "      <td>0.444444</td>\n",
       "      <td>0.222222</td>\n",
       "      <td>0.666667</td>\n",
       "      <td>9</td>\n",
       "    </tr>\n",
       "    <tr>\n",
       "      <th>直播通知</th>\n",
       "      <td>0.000000</td>\n",
       "      <td>0.600000</td>\n",
       "      <td>1.600000</td>\n",
       "      <td>0.200000</td>\n",
       "      <td>1.000000</td>\n",
       "      <td>5</td>\n",
       "    </tr>\n",
       "    <tr>\n",
       "      <th>线下交流会</th>\n",
       "      <td>0.875000</td>\n",
       "      <td>5.125000</td>\n",
       "      <td>2.875000</td>\n",
       "      <td>1.500000</td>\n",
       "      <td>3.000000</td>\n",
       "      <td>8</td>\n",
       "    </tr>\n",
       "    <tr>\n",
       "      <th>经验分享</th>\n",
       "      <td>0.111111</td>\n",
       "      <td>1.000000</td>\n",
       "      <td>0.333333</td>\n",
       "      <td>1.333333</td>\n",
       "      <td>0.333333</td>\n",
       "      <td>9</td>\n",
       "    </tr>\n",
       "    <tr>\n",
       "      <th>经验分享直播预告</th>\n",
       "      <td>0.000000</td>\n",
       "      <td>1.500000</td>\n",
       "      <td>1.000000</td>\n",
       "      <td>1.250000</td>\n",
       "      <td>0.750000</td>\n",
       "      <td>4</td>\n",
       "    </tr>\n",
       "    <tr>\n",
       "      <th>课程宣传</th>\n",
       "      <td>0.750000</td>\n",
       "      <td>1.000000</td>\n",
       "      <td>0.875000</td>\n",
       "      <td>0.500000</td>\n",
       "      <td>0.250000</td>\n",
       "      <td>8</td>\n",
       "    </tr>\n",
       "    <tr>\n",
       "      <th>课程直播预告</th>\n",
       "      <td>0.000000</td>\n",
       "      <td>0.500000</td>\n",
       "      <td>0.500000</td>\n",
       "      <td>0.500000</td>\n",
       "      <td>0.250000</td>\n",
       "      <td>4</td>\n",
       "    </tr>\n",
       "  </tbody>\n",
       "</table>\n",
       "</div>"
      ],
      "text/plain": [
       "               评论数       点赞量       分享数       收藏数     直接涨粉数  发布次数\n",
       "类别                                                              \n",
       "周三直播预告    0.000000  0.000000  0.000000  0.000000  0.000000     1\n",
       "干货分享      0.000000  2.500000  0.500000  2.562500  0.750000    16\n",
       "报名截止日期    0.222222  0.666667  0.444444  0.222222  0.666667     9\n",
       "直播通知      0.000000  0.600000  1.600000  0.200000  1.000000     5\n",
       "线下交流会     0.875000  5.125000  2.875000  1.500000  3.000000     8\n",
       "经验分享      0.111111  1.000000  0.333333  1.333333  0.333333     9\n",
       "经验分享直播预告  0.000000  1.500000  1.000000  1.250000  0.750000     4\n",
       "课程宣传      0.750000  1.000000  0.875000  0.500000  0.250000     8\n",
       "课程直播预告    0.000000  0.500000  0.500000  0.500000  0.250000     4"
      ]
     },
     "execution_count": 187,
     "metadata": {},
     "output_type": "execute_result"
    }
   ],
   "source": [
    "df_mean"
   ]
  },
  {
   "cell_type": "code",
   "execution_count": 188,
   "id": "b9d585d2",
   "metadata": {},
   "outputs": [
    {
     "data": {
      "text/plain": [
       "类别\n",
       "周三直播预告      467.000000\n",
       "干货分享        657.562500\n",
       "报名截止日期      522.222222\n",
       "直播通知        537.600000\n",
       "线下交流会       882.250000\n",
       "经验分享        712.555556\n",
       "经验分享直播预告    688.000000\n",
       "课程宣传        527.750000\n",
       "课程直播预告      533.000000\n",
       "Name: 观看量, dtype: float64"
      ]
     },
     "execution_count": 188,
     "metadata": {},
     "output_type": "execute_result"
    }
   ],
   "source": [
    "df_mean_views = df3.groupby('类别')['观看量'].mean()\n",
    "df_mean_views"
   ]
  },
  {
   "cell_type": "code",
   "execution_count": 189,
   "id": "888ae02c",
   "metadata": {},
   "outputs": [],
   "source": [
    "df_mean = df_mean.drop('发布次数',axis = 1)"
   ]
  },
  {
   "cell_type": "code",
   "execution_count": 190,
   "id": "f331efc5",
   "metadata": {},
   "outputs": [
    {
     "data": {
      "text/html": [
       "<div>\n",
       "<style scoped>\n",
       "    .dataframe tbody tr th:only-of-type {\n",
       "        vertical-align: middle;\n",
       "    }\n",
       "\n",
       "    .dataframe tbody tr th {\n",
       "        vertical-align: top;\n",
       "    }\n",
       "\n",
       "    .dataframe thead th {\n",
       "        text-align: right;\n",
       "    }\n",
       "</style>\n",
       "<table border=\"1\" class=\"dataframe\">\n",
       "  <thead>\n",
       "    <tr style=\"text-align: right;\">\n",
       "      <th></th>\n",
       "      <th>评论数</th>\n",
       "      <th>点赞量</th>\n",
       "      <th>分享数</th>\n",
       "      <th>收藏数</th>\n",
       "      <th>直接涨粉数</th>\n",
       "    </tr>\n",
       "    <tr>\n",
       "      <th>类别</th>\n",
       "      <th></th>\n",
       "      <th></th>\n",
       "      <th></th>\n",
       "      <th></th>\n",
       "      <th></th>\n",
       "    </tr>\n",
       "  </thead>\n",
       "  <tbody>\n",
       "    <tr>\n",
       "      <th>周三直播预告</th>\n",
       "      <td>0.000000</td>\n",
       "      <td>0.000000</td>\n",
       "      <td>0.000000</td>\n",
       "      <td>0.000000</td>\n",
       "      <td>0.000000</td>\n",
       "    </tr>\n",
       "    <tr>\n",
       "      <th>干货分享</th>\n",
       "      <td>0.000000</td>\n",
       "      <td>2.500000</td>\n",
       "      <td>0.500000</td>\n",
       "      <td>2.562500</td>\n",
       "      <td>0.750000</td>\n",
       "    </tr>\n",
       "    <tr>\n",
       "      <th>报名截止日期</th>\n",
       "      <td>0.222222</td>\n",
       "      <td>0.666667</td>\n",
       "      <td>0.444444</td>\n",
       "      <td>0.222222</td>\n",
       "      <td>0.666667</td>\n",
       "    </tr>\n",
       "    <tr>\n",
       "      <th>直播通知</th>\n",
       "      <td>0.000000</td>\n",
       "      <td>0.600000</td>\n",
       "      <td>1.600000</td>\n",
       "      <td>0.200000</td>\n",
       "      <td>1.000000</td>\n",
       "    </tr>\n",
       "    <tr>\n",
       "      <th>线下交流会</th>\n",
       "      <td>0.875000</td>\n",
       "      <td>5.125000</td>\n",
       "      <td>2.875000</td>\n",
       "      <td>1.500000</td>\n",
       "      <td>3.000000</td>\n",
       "    </tr>\n",
       "    <tr>\n",
       "      <th>经验分享</th>\n",
       "      <td>0.111111</td>\n",
       "      <td>1.000000</td>\n",
       "      <td>0.333333</td>\n",
       "      <td>1.333333</td>\n",
       "      <td>0.333333</td>\n",
       "    </tr>\n",
       "    <tr>\n",
       "      <th>经验分享直播预告</th>\n",
       "      <td>0.000000</td>\n",
       "      <td>1.500000</td>\n",
       "      <td>1.000000</td>\n",
       "      <td>1.250000</td>\n",
       "      <td>0.750000</td>\n",
       "    </tr>\n",
       "    <tr>\n",
       "      <th>课程宣传</th>\n",
       "      <td>0.750000</td>\n",
       "      <td>1.000000</td>\n",
       "      <td>0.875000</td>\n",
       "      <td>0.500000</td>\n",
       "      <td>0.250000</td>\n",
       "    </tr>\n",
       "    <tr>\n",
       "      <th>课程直播预告</th>\n",
       "      <td>0.000000</td>\n",
       "      <td>0.500000</td>\n",
       "      <td>0.500000</td>\n",
       "      <td>0.500000</td>\n",
       "      <td>0.250000</td>\n",
       "    </tr>\n",
       "  </tbody>\n",
       "</table>\n",
       "</div>"
      ],
      "text/plain": [
       "               评论数       点赞量       分享数       收藏数     直接涨粉数\n",
       "类别                                                        \n",
       "周三直播预告    0.000000  0.000000  0.000000  0.000000  0.000000\n",
       "干货分享      0.000000  2.500000  0.500000  2.562500  0.750000\n",
       "报名截止日期    0.222222  0.666667  0.444444  0.222222  0.666667\n",
       "直播通知      0.000000  0.600000  1.600000  0.200000  1.000000\n",
       "线下交流会     0.875000  5.125000  2.875000  1.500000  3.000000\n",
       "经验分享      0.111111  1.000000  0.333333  1.333333  0.333333\n",
       "经验分享直播预告  0.000000  1.500000  1.000000  1.250000  0.750000\n",
       "课程宣传      0.750000  1.000000  0.875000  0.500000  0.250000\n",
       "课程直播预告    0.000000  0.500000  0.500000  0.500000  0.250000"
      ]
     },
     "execution_count": 190,
     "metadata": {},
     "output_type": "execute_result"
    }
   ],
   "source": [
    "df_mean"
   ]
  },
  {
   "cell_type": "code",
   "execution_count": 191,
   "id": "962a0a2a",
   "metadata": {},
   "outputs": [],
   "source": [
    "#df_mean_views df_mean df1(full dataframe)"
   ]
  },
  {
   "cell_type": "code",
   "execution_count": 192,
   "id": "c6d42236",
   "metadata": {},
   "outputs": [],
   "source": [
    "sp_tags = df1[df1['类别'] == '其他']"
   ]
  },
  {
   "cell_type": "code",
   "execution_count": 193,
   "id": "2ac6760e",
   "metadata": {},
   "outputs": [
    {
     "data": {
      "text/plain": [
       "41    #留学申请季 #研究生申请 #留学美国 #美国留学申请 #美国留学生 #美国研究生 #美国研...\n",
       "Name: 标签, dtype: object"
      ]
     },
     "execution_count": 193,
     "metadata": {},
     "output_type": "execute_result"
    }
   ],
   "source": [
    "sp_tags['标签']"
   ]
  },
  {
   "cell_type": "code",
   "execution_count": 194,
   "id": "871d36ac",
   "metadata": {},
   "outputs": [
    {
     "data": {
      "text/html": [
       "<div>\n",
       "<style scoped>\n",
       "    .dataframe tbody tr th:only-of-type {\n",
       "        vertical-align: middle;\n",
       "    }\n",
       "\n",
       "    .dataframe tbody tr th {\n",
       "        vertical-align: top;\n",
       "    }\n",
       "\n",
       "    .dataframe thead th {\n",
       "        text-align: right;\n",
       "    }\n",
       "</style>\n",
       "<table border=\"1\" class=\"dataframe\">\n",
       "  <thead>\n",
       "    <tr style=\"text-align: right;\">\n",
       "      <th></th>\n",
       "      <th>笔记名称</th>\n",
       "      <th>笔记链接</th>\n",
       "      <th>发布日期</th>\n",
       "      <th>观看量</th>\n",
       "      <th>评论数</th>\n",
       "      <th>点赞量</th>\n",
       "      <th>分享数</th>\n",
       "      <th>收藏数</th>\n",
       "      <th>直接涨粉数</th>\n",
       "      <th>标签</th>\n",
       "      <th>类别</th>\n",
       "    </tr>\n",
       "  </thead>\n",
       "  <tbody>\n",
       "    <tr>\n",
       "      <th>0</th>\n",
       "      <td>Marketing Data Scientist 必须掌握的知识</td>\n",
       "      <td>https://www.xiaohongshu.com/explore/65361e7800...</td>\n",
       "      <td>10/23/2023</td>\n",
       "      <td>612.0</td>\n",
       "      <td>0.0</td>\n",
       "      <td>3.0</td>\n",
       "      <td>0.0</td>\n",
       "      <td>2.0</td>\n",
       "      <td>3.0</td>\n",
       "      <td>#数据科学\\n #DS #marketing #datascience #北美data求职 ...</td>\n",
       "      <td>干货分享</td>\n",
       "    </tr>\n",
       "    <tr>\n",
       "      <th>1</th>\n",
       "      <td>休斯顿数据科学家线下交流会</td>\n",
       "      <td>https://www.xiaohongshu.com/explore/6536803400...</td>\n",
       "      <td>10/23/2023</td>\n",
       "      <td>2102.0</td>\n",
       "      <td>5.0</td>\n",
       "      <td>19.0</td>\n",
       "      <td>10.0</td>\n",
       "      <td>7.0</td>\n",
       "      <td>14.0</td>\n",
       "      <td>#休斯顿生活\\n  #休斯顿大学 #休斯顿 #Rice大学 #休斯顿留学生 #数据科学 #数...</td>\n",
       "      <td>线下交流会</td>\n",
       "    </tr>\n",
       "    <tr>\n",
       "      <th>2</th>\n",
       "      <td>备战春招必看！数据科学一站式训练营推荐</td>\n",
       "      <td>https://www.xiaohongshu.com/explore/65376e5000...</td>\n",
       "      <td>10/24/2023</td>\n",
       "      <td>511.0</td>\n",
       "      <td>0.0</td>\n",
       "      <td>1.0</td>\n",
       "      <td>0.0</td>\n",
       "      <td>0.0</td>\n",
       "      <td>0.0</td>\n",
       "      <td>#数据科学 #春招 #留学生求职 #北美春招#北美data求职 #DS #data #dat...</td>\n",
       "      <td>报名截止日期</td>\n",
       "    </tr>\n",
       "    <tr>\n",
       "      <th>3</th>\n",
       "      <td>入职美国银行业 DS 半年，我都学到了什么？</td>\n",
       "      <td>https://www.xiaohongshu.com/explore/6538d29300...</td>\n",
       "      <td>10/25/2023</td>\n",
       "      <td>871.0</td>\n",
       "      <td>1.0</td>\n",
       "      <td>3.0</td>\n",
       "      <td>0.0</td>\n",
       "      <td>5.0</td>\n",
       "      <td>1.0</td>\n",
       "      <td>#今日份工作小结 #DS #数据科学 #北美data求职 #北美留学 #银行 #银行工作 #...</td>\n",
       "      <td>经验分享</td>\n",
       "    </tr>\n",
       "    <tr>\n",
       "      <th>4</th>\n",
       "      <td>DS 线下交流会！休斯顿地区的同学看过来！</td>\n",
       "      <td>https://www.xiaohongshu.com/explore/653b5a5600...</td>\n",
       "      <td>10/27/2023</td>\n",
       "      <td>542.0</td>\n",
       "      <td>0.0</td>\n",
       "      <td>0.0</td>\n",
       "      <td>0.0</td>\n",
       "      <td>0.0</td>\n",
       "      <td>0.0</td>\n",
       "      <td>#休斯顿 #休斯顿生活 #休斯顿大学 #Rice大学 #数据科学 #北美data求职 #数据...</td>\n",
       "      <td>线下交流会</td>\n",
       "    </tr>\n",
       "    <tr>\n",
       "      <th>...</th>\n",
       "      <td>...</td>\n",
       "      <td>...</td>\n",
       "      <td>...</td>\n",
       "      <td>...</td>\n",
       "      <td>...</td>\n",
       "      <td>...</td>\n",
       "      <td>...</td>\n",
       "      <td>...</td>\n",
       "      <td>...</td>\n",
       "      <td>...</td>\n",
       "      <td>...</td>\n",
       "    </tr>\n",
       "    <tr>\n",
       "      <th>60</th>\n",
       "      <td>春招在即，应届生一定要做好这些求职准备！</td>\n",
       "      <td>https://www.xiaohongshu.com/explore/65a630cf00...</td>\n",
       "      <td>01/16/2023</td>\n",
       "      <td>400.0</td>\n",
       "      <td>0.0</td>\n",
       "      <td>0.0</td>\n",
       "      <td>0.0</td>\n",
       "      <td>0.0</td>\n",
       "      <td>0.0</td>\n",
       "      <td>#应届生找工作 #应届毕业生 #应届毕业生找工作 #春招 #应届生 #应届生求职 #校招 #...</td>\n",
       "      <td>干货分享</td>\n",
       "    </tr>\n",
       "    <tr>\n",
       "      <th>61</th>\n",
       "      <td>直播答疑预告：北美数据科学求职</td>\n",
       "      <td>https://www.xiaohongshu.com/explore/65a73ac300...</td>\n",
       "      <td>01/16/2024</td>\n",
       "      <td>467.0</td>\n",
       "      <td>0.0</td>\n",
       "      <td>0.0</td>\n",
       "      <td>0.0</td>\n",
       "      <td>0.0</td>\n",
       "      <td>0.0</td>\n",
       "      <td>#数据科学 #数据分析求职 #北美data求职 #北美求职 #美国求职 #美国data求职 ...</td>\n",
       "      <td>周三直播预告</td>\n",
       "    </tr>\n",
       "    <tr>\n",
       "      <th>62</th>\n",
       "      <td>零基础友好!数据科学 Boot Camp</td>\n",
       "      <td>https://www.xiaohongshu.com/explore/65a797aa00...</td>\n",
       "      <td>01/17/2024</td>\n",
       "      <td>512.0</td>\n",
       "      <td>2.0</td>\n",
       "      <td>2.0</td>\n",
       "      <td>0.0</td>\n",
       "      <td>1.0</td>\n",
       "      <td>1.0</td>\n",
       "      <td>#数据科学 #北美data求职 #数据科学求职 #机器学习 #python学习 #DS #美...</td>\n",
       "      <td>课程宣传</td>\n",
       "    </tr>\n",
       "    <tr>\n",
       "      <th>63</th>\n",
       "      <td>AI 领域大佬手把手带你入门！LLM 课程推荐</td>\n",
       "      <td>https://www.xiaohongshu.com/explore/65aa268300...</td>\n",
       "      <td>01/19/2023</td>\n",
       "      <td>470.0</td>\n",
       "      <td>0.0</td>\n",
       "      <td>0.0</td>\n",
       "      <td>2.0</td>\n",
       "      <td>0.0</td>\n",
       "      <td>0.0</td>\n",
       "      <td>#LLM #大语言模型 #ai #AI #人工智能 #玩转人工智能 #chatgpt #ch...</td>\n",
       "      <td>课程宣传</td>\n",
       "    </tr>\n",
       "    <tr>\n",
       "      <th>64</th>\n",
       "      <td>跟着AI大佬学了两个月大语言模型是什么体验</td>\n",
       "      <td>https://www.xiaohongshu.com/explore/65af7de200...</td>\n",
       "      <td>01/23/2024</td>\n",
       "      <td>402.0</td>\n",
       "      <td>0.0</td>\n",
       "      <td>0.0</td>\n",
       "      <td>0.0</td>\n",
       "      <td>0.0</td>\n",
       "      <td>0.0</td>\n",
       "      <td>#LLM #大语言模型 #ai #AI #人工智能 #chatgpt #机器学习 #Tech...</td>\n",
       "      <td>课程宣传</td>\n",
       "    </tr>\n",
       "  </tbody>\n",
       "</table>\n",
       "<p>65 rows × 11 columns</p>\n",
       "</div>"
      ],
      "text/plain": [
       "                                笔记名称  \\\n",
       "0   Marketing Data Scientist 必须掌握的知识   \n",
       "1                      休斯顿数据科学家线下交流会   \n",
       "2                备战春招必看！数据科学一站式训练营推荐   \n",
       "3             入职美国银行业 DS 半年，我都学到了什么？   \n",
       "4              DS 线下交流会！休斯顿地区的同学看过来！   \n",
       "..                               ...   \n",
       "60              春招在即，应届生一定要做好这些求职准备！   \n",
       "61                   直播答疑预告：北美数据科学求职   \n",
       "62              零基础友好!数据科学 Boot Camp   \n",
       "63           AI 领域大佬手把手带你入门！LLM 课程推荐   \n",
       "64             跟着AI大佬学了两个月大语言模型是什么体验   \n",
       "\n",
       "                                                 笔记链接        发布日期     观看量  \\\n",
       "0   https://www.xiaohongshu.com/explore/65361e7800...  10/23/2023   612.0   \n",
       "1   https://www.xiaohongshu.com/explore/6536803400...  10/23/2023  2102.0   \n",
       "2   https://www.xiaohongshu.com/explore/65376e5000...  10/24/2023   511.0   \n",
       "3   https://www.xiaohongshu.com/explore/6538d29300...  10/25/2023   871.0   \n",
       "4   https://www.xiaohongshu.com/explore/653b5a5600...  10/27/2023   542.0   \n",
       "..                                                ...         ...     ...   \n",
       "60  https://www.xiaohongshu.com/explore/65a630cf00...  01/16/2023   400.0   \n",
       "61  https://www.xiaohongshu.com/explore/65a73ac300...  01/16/2024   467.0   \n",
       "62  https://www.xiaohongshu.com/explore/65a797aa00...  01/17/2024   512.0   \n",
       "63  https://www.xiaohongshu.com/explore/65aa268300...  01/19/2023   470.0   \n",
       "64  https://www.xiaohongshu.com/explore/65af7de200...  01/23/2024   402.0   \n",
       "\n",
       "    评论数   点赞量   分享数  收藏数  直接涨粉数  \\\n",
       "0   0.0   3.0   0.0  2.0    3.0   \n",
       "1   5.0  19.0  10.0  7.0   14.0   \n",
       "2   0.0   1.0   0.0  0.0    0.0   \n",
       "3   1.0   3.0   0.0  5.0    1.0   \n",
       "4   0.0   0.0   0.0  0.0    0.0   \n",
       "..  ...   ...   ...  ...    ...   \n",
       "60  0.0   0.0   0.0  0.0    0.0   \n",
       "61  0.0   0.0   0.0  0.0    0.0   \n",
       "62  2.0   2.0   0.0  1.0    1.0   \n",
       "63  0.0   0.0   2.0  0.0    0.0   \n",
       "64  0.0   0.0   0.0  0.0    0.0   \n",
       "\n",
       "                                                   标签      类别  \n",
       "0   #数据科学\\n #DS #marketing #datascience #北美data求职 ...    干货分享  \n",
       "1   #休斯顿生活\\n  #休斯顿大学 #休斯顿 #Rice大学 #休斯顿留学生 #数据科学 #数...   线下交流会  \n",
       "2   #数据科学 #春招 #留学生求职 #北美春招#北美data求职 #DS #data #dat...  报名截止日期  \n",
       "3   #今日份工作小结 #DS #数据科学 #北美data求职 #北美留学 #银行 #银行工作 #...    经验分享  \n",
       "4   #休斯顿 #休斯顿生活 #休斯顿大学 #Rice大学 #数据科学 #北美data求职 #数据...   线下交流会  \n",
       "..                                                ...     ...  \n",
       "60  #应届生找工作 #应届毕业生 #应届毕业生找工作 #春招 #应届生 #应届生求职 #校招 #...    干货分享  \n",
       "61  #数据科学 #数据分析求职 #北美data求职 #北美求职 #美国求职 #美国data求职 ...  周三直播预告  \n",
       "62  #数据科学 #北美data求职 #数据科学求职 #机器学习 #python学习 #DS #美...    课程宣传  \n",
       "63  #LLM #大语言模型 #ai #AI #人工智能 #玩转人工智能 #chatgpt #ch...    课程宣传  \n",
       "64  #LLM #大语言模型 #ai #AI #人工智能 #chatgpt #机器学习 #Tech...    课程宣传  \n",
       "\n",
       "[65 rows x 11 columns]"
      ]
     },
     "execution_count": 194,
     "metadata": {},
     "output_type": "execute_result"
    }
   ],
   "source": [
    "df1"
   ]
  },
  {
   "cell_type": "code",
   "execution_count": 195,
   "id": "48f48c21",
   "metadata": {},
   "outputs": [
    {
     "data": {
      "text/plain": [
       "65"
      ]
     },
     "execution_count": 195,
     "metadata": {},
     "output_type": "execute_result"
    }
   ],
   "source": [
    "len(df1)"
   ]
  },
  {
   "cell_type": "code",
   "execution_count": 196,
   "id": "8a09afb1",
   "metadata": {},
   "outputs": [],
   "source": [
    "#找出含有tags list 中任意tag的rows\n",
    "def filter_tags (df,tags):\n",
    "    result  = pd.DataFrame()\n",
    "    for i in range(len(df)):\n",
    "        df_tags = df.at[i,'标签'].split() if pd.notna(df.at[i,'标签']) else []\n",
    "        if any(tag in df_tags for tag in tags):\n",
    "                result = pd.concat([result, df.iloc[i:i+1]])\n",
    "    \n",
    "    return result\n",
    "\n",
    "        "
   ]
  },
  {
   "cell_type": "code",
   "execution_count": 197,
   "id": "1bea3574",
   "metadata": {},
   "outputs": [],
   "source": [
    "sp_tags = df1.at[41,'标签'].split()"
   ]
  },
  {
   "cell_type": "code",
   "execution_count": 198,
   "id": "9e23f63b",
   "metadata": {},
   "outputs": [
    {
     "data": {
      "text/plain": [
       "['#留学申请季',\n",
       " '#研究生申请',\n",
       " '#留学美国',\n",
       " '#美国留学申请',\n",
       " '#美国留学生',\n",
       " '#美国研究生',\n",
       " '#美国研究生申请',\n",
       " '#美国大学申请#美国访问学者',\n",
       " '#美国大学',\n",
       " '#美国研究生留学申请',\n",
       " '#美国博士申请',\n",
       " '#休斯顿大学',\n",
       " '#博士申请',\n",
       " '#留學',\n",
       " '#Techlent转行数据科学']"
      ]
     },
     "execution_count": 198,
     "metadata": {},
     "output_type": "execute_result"
    }
   ],
   "source": [
    "sp_tags"
   ]
  },
  {
   "cell_type": "code",
   "execution_count": 199,
   "id": "d9401ad7",
   "metadata": {},
   "outputs": [
    {
     "data": {
      "text/plain": [
       "['#数据科学',\n",
       " '#DS',\n",
       " '#marketing',\n",
       " '#datascience',\n",
       " '#北美data求职',\n",
       " '#data',\n",
       " '#DataScientist',\n",
       " '#知识科普',\n",
       " '#职场日常',\n",
       " '#打工人日常',\n",
       " '#Techlent转行数据科学']"
      ]
     },
     "execution_count": 199,
     "metadata": {},
     "output_type": "execute_result"
    }
   ],
   "source": [
    "df_tags = df1.at[0,'标签'].split() if pd.notna(df1.at[0,'标签']) else []\n",
    "df_tags"
   ]
  },
  {
   "cell_type": "code",
   "execution_count": 200,
   "id": "6acfaee1",
   "metadata": {},
   "outputs": [
    {
     "data": {
      "text/html": [
       "<div>\n",
       "<style scoped>\n",
       "    .dataframe tbody tr th:only-of-type {\n",
       "        vertical-align: middle;\n",
       "    }\n",
       "\n",
       "    .dataframe tbody tr th {\n",
       "        vertical-align: top;\n",
       "    }\n",
       "\n",
       "    .dataframe thead th {\n",
       "        text-align: right;\n",
       "    }\n",
       "</style>\n",
       "<table border=\"1\" class=\"dataframe\">\n",
       "  <thead>\n",
       "    <tr style=\"text-align: right;\">\n",
       "      <th></th>\n",
       "      <th>笔记名称</th>\n",
       "      <th>笔记链接</th>\n",
       "      <th>发布日期</th>\n",
       "      <th>观看量</th>\n",
       "      <th>评论数</th>\n",
       "      <th>点赞量</th>\n",
       "      <th>分享数</th>\n",
       "      <th>收藏数</th>\n",
       "      <th>直接涨粉数</th>\n",
       "      <th>标签</th>\n",
       "      <th>类别</th>\n",
       "    </tr>\n",
       "  </thead>\n",
       "  <tbody>\n",
       "    <tr>\n",
       "      <th>0</th>\n",
       "      <td>Marketing Data Scientist 必须掌握的知识</td>\n",
       "      <td>https://www.xiaohongshu.com/explore/65361e7800...</td>\n",
       "      <td>10/23/2023</td>\n",
       "      <td>612.0</td>\n",
       "      <td>0.0</td>\n",
       "      <td>3.0</td>\n",
       "      <td>0.0</td>\n",
       "      <td>2.0</td>\n",
       "      <td>3.0</td>\n",
       "      <td>#数据科学\\n #DS #marketing #datascience #北美data求职 ...</td>\n",
       "      <td>干货分享</td>\n",
       "    </tr>\n",
       "    <tr>\n",
       "      <th>1</th>\n",
       "      <td>休斯顿数据科学家线下交流会</td>\n",
       "      <td>https://www.xiaohongshu.com/explore/6536803400...</td>\n",
       "      <td>10/23/2023</td>\n",
       "      <td>2102.0</td>\n",
       "      <td>5.0</td>\n",
       "      <td>19.0</td>\n",
       "      <td>10.0</td>\n",
       "      <td>7.0</td>\n",
       "      <td>14.0</td>\n",
       "      <td>#休斯顿生活\\n  #休斯顿大学 #休斯顿 #Rice大学 #休斯顿留学生 #数据科学 #数...</td>\n",
       "      <td>线下交流会</td>\n",
       "    </tr>\n",
       "    <tr>\n",
       "      <th>2</th>\n",
       "      <td>备战春招必看！数据科学一站式训练营推荐</td>\n",
       "      <td>https://www.xiaohongshu.com/explore/65376e5000...</td>\n",
       "      <td>10/24/2023</td>\n",
       "      <td>511.0</td>\n",
       "      <td>0.0</td>\n",
       "      <td>1.0</td>\n",
       "      <td>0.0</td>\n",
       "      <td>0.0</td>\n",
       "      <td>0.0</td>\n",
       "      <td>#数据科学 #春招 #留学生求职 #北美春招#北美data求职 #DS #data #dat...</td>\n",
       "      <td>报名截止日期</td>\n",
       "    </tr>\n",
       "    <tr>\n",
       "      <th>3</th>\n",
       "      <td>入职美国银行业 DS 半年，我都学到了什么？</td>\n",
       "      <td>https://www.xiaohongshu.com/explore/6538d29300...</td>\n",
       "      <td>10/25/2023</td>\n",
       "      <td>871.0</td>\n",
       "      <td>1.0</td>\n",
       "      <td>3.0</td>\n",
       "      <td>0.0</td>\n",
       "      <td>5.0</td>\n",
       "      <td>1.0</td>\n",
       "      <td>#今日份工作小结 #DS #数据科学 #北美data求职 #北美留学 #银行 #银行工作 #...</td>\n",
       "      <td>经验分享</td>\n",
       "    </tr>\n",
       "    <tr>\n",
       "      <th>4</th>\n",
       "      <td>DS 线下交流会！休斯顿地区的同学看过来！</td>\n",
       "      <td>https://www.xiaohongshu.com/explore/653b5a5600...</td>\n",
       "      <td>10/27/2023</td>\n",
       "      <td>542.0</td>\n",
       "      <td>0.0</td>\n",
       "      <td>0.0</td>\n",
       "      <td>0.0</td>\n",
       "      <td>0.0</td>\n",
       "      <td>0.0</td>\n",
       "      <td>#休斯顿 #休斯顿生活 #休斯顿大学 #Rice大学 #数据科学 #北美data求职 #数据...</td>\n",
       "      <td>线下交流会</td>\n",
       "    </tr>\n",
       "    <tr>\n",
       "      <th>...</th>\n",
       "      <td>...</td>\n",
       "      <td>...</td>\n",
       "      <td>...</td>\n",
       "      <td>...</td>\n",
       "      <td>...</td>\n",
       "      <td>...</td>\n",
       "      <td>...</td>\n",
       "      <td>...</td>\n",
       "      <td>...</td>\n",
       "      <td>...</td>\n",
       "      <td>...</td>\n",
       "    </tr>\n",
       "    <tr>\n",
       "      <th>60</th>\n",
       "      <td>春招在即，应届生一定要做好这些求职准备！</td>\n",
       "      <td>https://www.xiaohongshu.com/explore/65a630cf00...</td>\n",
       "      <td>01/16/2023</td>\n",
       "      <td>400.0</td>\n",
       "      <td>0.0</td>\n",
       "      <td>0.0</td>\n",
       "      <td>0.0</td>\n",
       "      <td>0.0</td>\n",
       "      <td>0.0</td>\n",
       "      <td>#应届生找工作 #应届毕业生 #应届毕业生找工作 #春招 #应届生 #应届生求职 #校招 #...</td>\n",
       "      <td>干货分享</td>\n",
       "    </tr>\n",
       "    <tr>\n",
       "      <th>61</th>\n",
       "      <td>直播答疑预告：北美数据科学求职</td>\n",
       "      <td>https://www.xiaohongshu.com/explore/65a73ac300...</td>\n",
       "      <td>01/16/2024</td>\n",
       "      <td>467.0</td>\n",
       "      <td>0.0</td>\n",
       "      <td>0.0</td>\n",
       "      <td>0.0</td>\n",
       "      <td>0.0</td>\n",
       "      <td>0.0</td>\n",
       "      <td>#数据科学 #数据分析求职 #北美data求职 #北美求职 #美国求职 #美国data求职 ...</td>\n",
       "      <td>周三直播预告</td>\n",
       "    </tr>\n",
       "    <tr>\n",
       "      <th>62</th>\n",
       "      <td>零基础友好!数据科学 Boot Camp</td>\n",
       "      <td>https://www.xiaohongshu.com/explore/65a797aa00...</td>\n",
       "      <td>01/17/2024</td>\n",
       "      <td>512.0</td>\n",
       "      <td>2.0</td>\n",
       "      <td>2.0</td>\n",
       "      <td>0.0</td>\n",
       "      <td>1.0</td>\n",
       "      <td>1.0</td>\n",
       "      <td>#数据科学 #北美data求职 #数据科学求职 #机器学习 #python学习 #DS #美...</td>\n",
       "      <td>课程宣传</td>\n",
       "    </tr>\n",
       "    <tr>\n",
       "      <th>63</th>\n",
       "      <td>AI 领域大佬手把手带你入门！LLM 课程推荐</td>\n",
       "      <td>https://www.xiaohongshu.com/explore/65aa268300...</td>\n",
       "      <td>01/19/2023</td>\n",
       "      <td>470.0</td>\n",
       "      <td>0.0</td>\n",
       "      <td>0.0</td>\n",
       "      <td>2.0</td>\n",
       "      <td>0.0</td>\n",
       "      <td>0.0</td>\n",
       "      <td>#LLM #大语言模型 #ai #AI #人工智能 #玩转人工智能 #chatgpt #ch...</td>\n",
       "      <td>课程宣传</td>\n",
       "    </tr>\n",
       "    <tr>\n",
       "      <th>64</th>\n",
       "      <td>跟着AI大佬学了两个月大语言模型是什么体验</td>\n",
       "      <td>https://www.xiaohongshu.com/explore/65af7de200...</td>\n",
       "      <td>01/23/2024</td>\n",
       "      <td>402.0</td>\n",
       "      <td>0.0</td>\n",
       "      <td>0.0</td>\n",
       "      <td>0.0</td>\n",
       "      <td>0.0</td>\n",
       "      <td>0.0</td>\n",
       "      <td>#LLM #大语言模型 #ai #AI #人工智能 #chatgpt #机器学习 #Tech...</td>\n",
       "      <td>课程宣传</td>\n",
       "    </tr>\n",
       "  </tbody>\n",
       "</table>\n",
       "<p>64 rows × 11 columns</p>\n",
       "</div>"
      ],
      "text/plain": [
       "                                笔记名称  \\\n",
       "0   Marketing Data Scientist 必须掌握的知识   \n",
       "1                      休斯顿数据科学家线下交流会   \n",
       "2                备战春招必看！数据科学一站式训练营推荐   \n",
       "3             入职美国银行业 DS 半年，我都学到了什么？   \n",
       "4              DS 线下交流会！休斯顿地区的同学看过来！   \n",
       "..                               ...   \n",
       "60              春招在即，应届生一定要做好这些求职准备！   \n",
       "61                   直播答疑预告：北美数据科学求职   \n",
       "62              零基础友好!数据科学 Boot Camp   \n",
       "63           AI 领域大佬手把手带你入门！LLM 课程推荐   \n",
       "64             跟着AI大佬学了两个月大语言模型是什么体验   \n",
       "\n",
       "                                                 笔记链接        发布日期     观看量  \\\n",
       "0   https://www.xiaohongshu.com/explore/65361e7800...  10/23/2023   612.0   \n",
       "1   https://www.xiaohongshu.com/explore/6536803400...  10/23/2023  2102.0   \n",
       "2   https://www.xiaohongshu.com/explore/65376e5000...  10/24/2023   511.0   \n",
       "3   https://www.xiaohongshu.com/explore/6538d29300...  10/25/2023   871.0   \n",
       "4   https://www.xiaohongshu.com/explore/653b5a5600...  10/27/2023   542.0   \n",
       "..                                                ...         ...     ...   \n",
       "60  https://www.xiaohongshu.com/explore/65a630cf00...  01/16/2023   400.0   \n",
       "61  https://www.xiaohongshu.com/explore/65a73ac300...  01/16/2024   467.0   \n",
       "62  https://www.xiaohongshu.com/explore/65a797aa00...  01/17/2024   512.0   \n",
       "63  https://www.xiaohongshu.com/explore/65aa268300...  01/19/2023   470.0   \n",
       "64  https://www.xiaohongshu.com/explore/65af7de200...  01/23/2024   402.0   \n",
       "\n",
       "    评论数   点赞量   分享数  收藏数  直接涨粉数  \\\n",
       "0   0.0   3.0   0.0  2.0    3.0   \n",
       "1   5.0  19.0  10.0  7.0   14.0   \n",
       "2   0.0   1.0   0.0  0.0    0.0   \n",
       "3   1.0   3.0   0.0  5.0    1.0   \n",
       "4   0.0   0.0   0.0  0.0    0.0   \n",
       "..  ...   ...   ...  ...    ...   \n",
       "60  0.0   0.0   0.0  0.0    0.0   \n",
       "61  0.0   0.0   0.0  0.0    0.0   \n",
       "62  2.0   2.0   0.0  1.0    1.0   \n",
       "63  0.0   0.0   2.0  0.0    0.0   \n",
       "64  0.0   0.0   0.0  0.0    0.0   \n",
       "\n",
       "                                                   标签      类别  \n",
       "0   #数据科学\\n #DS #marketing #datascience #北美data求职 ...    干货分享  \n",
       "1   #休斯顿生活\\n  #休斯顿大学 #休斯顿 #Rice大学 #休斯顿留学生 #数据科学 #数...   线下交流会  \n",
       "2   #数据科学 #春招 #留学生求职 #北美春招#北美data求职 #DS #data #dat...  报名截止日期  \n",
       "3   #今日份工作小结 #DS #数据科学 #北美data求职 #北美留学 #银行 #银行工作 #...    经验分享  \n",
       "4   #休斯顿 #休斯顿生活 #休斯顿大学 #Rice大学 #数据科学 #北美data求职 #数据...   线下交流会  \n",
       "..                                                ...     ...  \n",
       "60  #应届生找工作 #应届毕业生 #应届毕业生找工作 #春招 #应届生 #应届生求职 #校招 #...    干货分享  \n",
       "61  #数据科学 #数据分析求职 #北美data求职 #北美求职 #美国求职 #美国data求职 ...  周三直播预告  \n",
       "62  #数据科学 #北美data求职 #数据科学求职 #机器学习 #python学习 #DS #美...    课程宣传  \n",
       "63  #LLM #大语言模型 #ai #AI #人工智能 #玩转人工智能 #chatgpt #ch...    课程宣传  \n",
       "64  #LLM #大语言模型 #ai #AI #人工智能 #chatgpt #机器学习 #Tech...    课程宣传  \n",
       "\n",
       "[64 rows x 11 columns]"
      ]
     },
     "execution_count": 200,
     "metadata": {},
     "output_type": "execute_result"
    }
   ],
   "source": [
    "filter_tags(df1,sp_tags)"
   ]
  },
  {
   "cell_type": "code",
   "execution_count": 201,
   "id": "0da42f94",
   "metadata": {},
   "outputs": [
    {
     "data": {
      "text/plain": [
       "['#留学申请季',\n",
       " '#研究生申请',\n",
       " '#留学美国',\n",
       " '#美国留学申请',\n",
       " '#美国留学生',\n",
       " '#美国研究生',\n",
       " '#美国研究生申请',\n",
       " '#美国大学申请#美国访问学者',\n",
       " '#美国大学',\n",
       " '#美国研究生留学申请',\n",
       " '#美国博士申请',\n",
       " '#休斯顿大学',\n",
       " '#博士申请',\n",
       " '#留學',\n",
       " '#Techlent转行数据科学']"
      ]
     },
     "execution_count": 201,
     "metadata": {},
     "output_type": "execute_result"
    }
   ],
   "source": [
    "sp_tags"
   ]
  },
  {
   "cell_type": "code",
   "execution_count": 202,
   "id": "b0f8bfbb",
   "metadata": {},
   "outputs": [
    {
     "data": {
      "text/html": [
       "<div>\n",
       "<style scoped>\n",
       "    .dataframe tbody tr th:only-of-type {\n",
       "        vertical-align: middle;\n",
       "    }\n",
       "\n",
       "    .dataframe tbody tr th {\n",
       "        vertical-align: top;\n",
       "    }\n",
       "\n",
       "    .dataframe thead th {\n",
       "        text-align: right;\n",
       "    }\n",
       "</style>\n",
       "<table border=\"1\" class=\"dataframe\">\n",
       "  <thead>\n",
       "    <tr style=\"text-align: right;\">\n",
       "      <th></th>\n",
       "      <th>笔记名称</th>\n",
       "      <th>笔记链接</th>\n",
       "      <th>发布日期</th>\n",
       "      <th>观看量</th>\n",
       "      <th>评论数</th>\n",
       "      <th>点赞量</th>\n",
       "      <th>分享数</th>\n",
       "      <th>收藏数</th>\n",
       "      <th>直接涨粉数</th>\n",
       "      <th>标签</th>\n",
       "      <th>类别</th>\n",
       "    </tr>\n",
       "  </thead>\n",
       "  <tbody>\n",
       "    <tr>\n",
       "      <th>41</th>\n",
       "      <td>美国休斯顿大学健康医学 DS 课题组招人啦！</td>\n",
       "      <td>https://www.xiaohongshu.com/explore/6584ee1600...</td>\n",
       "      <td>12/21/2023</td>\n",
       "      <td>1008.0</td>\n",
       "      <td>0.0</td>\n",
       "      <td>14.0</td>\n",
       "      <td>9.0</td>\n",
       "      <td>12.0</td>\n",
       "      <td>5.0</td>\n",
       "      <td>#留学申请季 #研究生申请 #留学美国 #美国留学申请 #美国留学生 #美国研究生 #美国研...</td>\n",
       "      <td>其他</td>\n",
       "    </tr>\n",
       "  </tbody>\n",
       "</table>\n",
       "</div>"
      ],
      "text/plain": [
       "                      笔记名称                                               笔记链接  \\\n",
       "41  美国休斯顿大学健康医学 DS 课题组招人啦！  https://www.xiaohongshu.com/explore/6584ee1600...   \n",
       "\n",
       "          发布日期     观看量  评论数   点赞量  分享数   收藏数  直接涨粉数  \\\n",
       "41  12/21/2023  1008.0  0.0  14.0  9.0  12.0    5.0   \n",
       "\n",
       "                                                   标签  类别  \n",
       "41  #留学申请季 #研究生申请 #留学美国 #美国留学申请 #美国留学生 #美国研究生 #美国研...  其他  "
      ]
     },
     "execution_count": 202,
     "metadata": {},
     "output_type": "execute_result"
    }
   ],
   "source": [
    "sb_tags = ['#留学申请季']\n",
    "filter_tags(df1,sb_tags)"
   ]
  },
  {
   "cell_type": "code",
   "execution_count": 203,
   "id": "f2ba66d9",
   "metadata": {},
   "outputs": [],
   "source": [
    "def tag_count (df,tag):\n",
    "    count = 0\n",
    "    for i in range(len(df)):\n",
    "        df_tags = df.at[i,'标签'].split() if pd.notna(df.at[i,'标签']) else []\n",
    "        if tag in df_tags:\n",
    "            count += 1\n",
    "    \n",
    "    print(tag)\n",
    "    print(count)"
   ]
  },
  {
   "cell_type": "code",
   "execution_count": 204,
   "id": "856ec6de",
   "metadata": {},
   "outputs": [
    {
     "name": "stdout",
     "output_type": "stream",
     "text": [
      "#留学申请季\n",
      "1\n",
      "#研究生申请\n",
      "1\n",
      "#留学美国\n",
      "7\n",
      "#美国留学申请\n",
      "1\n",
      "#美国留学生\n",
      "10\n",
      "#美国研究生\n",
      "1\n",
      "#美国研究生申请\n",
      "1\n",
      "#美国大学申请#美国访问学者\n",
      "1\n",
      "#美国大学\n",
      "1\n",
      "#美国研究生留学申请\n",
      "1\n",
      "#美国博士申请\n",
      "1\n",
      "#休斯顿大学\n",
      "5\n",
      "#博士申请\n",
      "2\n",
      "#留學\n",
      "1\n",
      "#Techlent转行数据科学\n",
      "62\n"
     ]
    }
   ],
   "source": [
    "for tag in sp_tags:\n",
    "    tag_count(df1,tag)"
   ]
  },
  {
   "cell_type": "code",
   "execution_count": 205,
   "id": "3b3fa28c",
   "metadata": {},
   "outputs": [],
   "source": [
    "#找出不含某tag list 中 tag 的row\n",
    "def filter_not_tags (df,tags):\n",
    "    result  = pd.DataFrame()\n",
    "    for i in range(len(df)):\n",
    "        df_tags = df.at[i,'标签'].split() if pd.notna(df.at[i,'标签']) else []\n",
    "        if not any(tag in df_tags for tag in tags):\n",
    "                result = pd.concat([result, df.iloc[i:i+1]])\n",
    "    \n",
    "    return result"
   ]
  },
  {
   "cell_type": "code",
   "execution_count": 206,
   "id": "569a470a",
   "metadata": {},
   "outputs": [
    {
     "data": {
      "text/html": [
       "<div>\n",
       "<style scoped>\n",
       "    .dataframe tbody tr th:only-of-type {\n",
       "        vertical-align: middle;\n",
       "    }\n",
       "\n",
       "    .dataframe tbody tr th {\n",
       "        vertical-align: top;\n",
       "    }\n",
       "\n",
       "    .dataframe thead th {\n",
       "        text-align: right;\n",
       "    }\n",
       "</style>\n",
       "<table border=\"1\" class=\"dataframe\">\n",
       "  <thead>\n",
       "    <tr style=\"text-align: right;\">\n",
       "      <th></th>\n",
       "      <th>笔记名称</th>\n",
       "      <th>笔记链接</th>\n",
       "      <th>发布日期</th>\n",
       "      <th>观看量</th>\n",
       "      <th>评论数</th>\n",
       "      <th>点赞量</th>\n",
       "      <th>分享数</th>\n",
       "      <th>收藏数</th>\n",
       "      <th>直接涨粉数</th>\n",
       "      <th>标签</th>\n",
       "      <th>类别</th>\n",
       "    </tr>\n",
       "  </thead>\n",
       "  <tbody>\n",
       "    <tr>\n",
       "      <th>1</th>\n",
       "      <td>休斯顿数据科学家线下交流会</td>\n",
       "      <td>https://www.xiaohongshu.com/explore/6536803400...</td>\n",
       "      <td>10/23/2023</td>\n",
       "      <td>2102.0</td>\n",
       "      <td>5.0</td>\n",
       "      <td>19.0</td>\n",
       "      <td>10.0</td>\n",
       "      <td>7.0</td>\n",
       "      <td>14.0</td>\n",
       "      <td>#休斯顿生活\\n  #休斯顿大学 #休斯顿 #Rice大学 #休斯顿留学生 #数据科学 #数...</td>\n",
       "      <td>线下交流会</td>\n",
       "    </tr>\n",
       "    <tr>\n",
       "      <th>8</th>\n",
       "      <td>即将截止！休斯顿数据科学家线下交流会</td>\n",
       "      <td>https://www.xiaohongshu.com/explore/6541e47f00...</td>\n",
       "      <td>11/01/2023</td>\n",
       "      <td>895.0</td>\n",
       "      <td>0.0</td>\n",
       "      <td>4.0</td>\n",
       "      <td>3.0</td>\n",
       "      <td>1.0</td>\n",
       "      <td>2.0</td>\n",
       "      <td>#休斯顿 #休斯顿生活 #休斯顿大学 #Rice大学 #休斯顿留学 #休斯顿留学生 #休斯顿...</td>\n",
       "      <td>线下交流会</td>\n",
       "    </tr>\n",
       "    <tr>\n",
       "      <th>13</th>\n",
       "      <td>早鸟票最后1天！数据科学一站式训练营</td>\n",
       "      <td>https://www.xiaohongshu.com/explore/65489ee100...</td>\n",
       "      <td>11/06/2023</td>\n",
       "      <td>588.0</td>\n",
       "      <td>0.0</td>\n",
       "      <td>0.0</td>\n",
       "      <td>1.0</td>\n",
       "      <td>1.0</td>\n",
       "      <td>2.0</td>\n",
       "      <td>NaN</td>\n",
       "      <td>报名截止日期</td>\n",
       "    </tr>\n",
       "  </tbody>\n",
       "</table>\n",
       "</div>"
      ],
      "text/plain": [
       "                  笔记名称                                               笔记链接  \\\n",
       "1        休斯顿数据科学家线下交流会  https://www.xiaohongshu.com/explore/6536803400...   \n",
       "8   即将截止！休斯顿数据科学家线下交流会  https://www.xiaohongshu.com/explore/6541e47f00...   \n",
       "13  早鸟票最后1天！数据科学一站式训练营  https://www.xiaohongshu.com/explore/65489ee100...   \n",
       "\n",
       "          发布日期     观看量  评论数   点赞量   分享数  收藏数  直接涨粉数  \\\n",
       "1   10/23/2023  2102.0  5.0  19.0  10.0  7.0   14.0   \n",
       "8   11/01/2023   895.0  0.0   4.0   3.0  1.0    2.0   \n",
       "13  11/06/2023   588.0  0.0   0.0   1.0  1.0    2.0   \n",
       "\n",
       "                                                   标签      类别  \n",
       "1   #休斯顿生活\\n  #休斯顿大学 #休斯顿 #Rice大学 #休斯顿留学生 #数据科学 #数...   线下交流会  \n",
       "8   #休斯顿 #休斯顿生活 #休斯顿大学 #Rice大学 #休斯顿留学 #休斯顿留学生 #休斯顿...   线下交流会  \n",
       "13                                                NaN  报名截止日期  "
      ]
     },
     "execution_count": 206,
     "metadata": {},
     "output_type": "execute_result"
    }
   ],
   "source": [
    "filter_not_tags(df1,['#Techlent转行数据科学'])"
   ]
  },
  {
   "cell_type": "code",
   "execution_count": 207,
   "id": "3e2c8178",
   "metadata": {},
   "outputs": [
    {
     "data": {
      "text/plain": [
       "类别\n",
       "干货分享        16\n",
       "报名截止日期       9\n",
       "经验分享         9\n",
       "线下交流会        8\n",
       "课程宣传         8\n",
       "直播通知         5\n",
       "课程直播预告       4\n",
       "经验分享直播预告     4\n",
       "其他           1\n",
       "周三直播预告       1\n",
       "Name: count, dtype: int64"
      ]
     },
     "execution_count": 207,
     "metadata": {},
     "output_type": "execute_result"
    }
   ],
   "source": [
    "df1['类别'].value_counts()"
   ]
  },
  {
   "cell_type": "code",
   "execution_count": 208,
   "id": "c5535259",
   "metadata": {},
   "outputs": [],
   "source": [
    "#排除仅出现一次且流量较高的课题组招人笔记，其标签绝大部分为北美求学，大学相关，不适用于其他笔记\n",
    "df1_refined = df1[df1['类别'] != '其他'].reset_index(drop=True)"
   ]
  },
  {
   "cell_type": "code",
   "execution_count": null,
   "id": "875bb286",
   "metadata": {},
   "outputs": [],
   "source": [
    "#t1 #美国研究生 tag 对提升流量是否有显著效果"
   ]
  },
  {
   "cell_type": "code",
   "execution_count": 209,
   "id": "6ec9aac4",
   "metadata": {},
   "outputs": [],
   "source": [
    "df1_t1_a = filter_tags(df1_refined,['#美国留学生'])\n",
    "df1_t1_0 = filter_not_tags(df1_refined,['#美国留学生'])"
   ]
  },
  {
   "cell_type": "code",
   "execution_count": 210,
   "id": "b543a464",
   "metadata": {},
   "outputs": [],
   "source": [
    "df1_t1_a_view = df1_t1_a['观看量'].mean()\n",
    "df1_t1_0_view = df1_t1_0['观看量'].mean()"
   ]
  },
  {
   "cell_type": "code",
   "execution_count": 211,
   "id": "379f9817",
   "metadata": {},
   "outputs": [],
   "source": [
    "df1_t1_a_stats = df1_t1_a[['评论数','点赞量','分享数','收藏数','直接涨粉数']].mean()\n",
    "df1_t1_0_stats = df1_t1_0[['评论数','点赞量','分享数','收藏数','直接涨粉数']].mean()"
   ]
  },
  {
   "cell_type": "code",
   "execution_count": 212,
   "id": "957ced3a",
   "metadata": {},
   "outputs": [
    {
     "data": {
      "text/plain": [
       "评论数      0.222222\n",
       "点赞量      2.000000\n",
       "分享数      1.666667\n",
       "收藏数      0.444444\n",
       "直接涨粉数    1.111111\n",
       "dtype: float64"
      ]
     },
     "execution_count": 212,
     "metadata": {},
     "output_type": "execute_result"
    }
   ],
   "source": [
    "df1_t1_a_stats"
   ]
  },
  {
   "cell_type": "code",
   "execution_count": 213,
   "id": "b7d053b6",
   "metadata": {},
   "outputs": [
    {
     "data": {
      "text/plain": [
       "评论数      0.254545\n",
       "点赞量      1.763636\n",
       "分享数      0.800000\n",
       "收藏数      1.363636\n",
       "直接涨粉数    0.836364\n",
       "dtype: float64"
      ]
     },
     "execution_count": 213,
     "metadata": {},
     "output_type": "execute_result"
    }
   ],
   "source": [
    "df1_t1_0_stats"
   ]
  },
  {
   "cell_type": "code",
   "execution_count": 214,
   "id": "0b812eff",
   "metadata": {},
   "outputs": [
    {
     "data": {
      "image/png": "[encoded data removed]",
      "text/plain": [
       "<Figure size 640x480 with 1 Axes>"
      ]
     },
     "metadata": {},
     "output_type": "display_data"
    }
   ],
   "source": [
    "fig, ax = plt.subplots()\n",
    "df1_t1_a_stats.plot(kind='bar', color='skyblue', position=0, width=0.4, label='带#美国留学生标签', ax=ax)\n",
    "df1_t1_0_stats.plot(kind='bar', color='orange', position=1, width=0.4, label='不带#美国留学生标签', ax=ax)\n",
    "\n",
    "# Set labels, title, and legend\n",
    "plt.title('平均流量比较')\n",
    "plt.ylabel('平均值')\n",
    "plt.legend()\n",
    "\n",
    "plt.show()"
   ]
  },
  {
   "cell_type": "code",
   "execution_count": 215,
   "id": "5fb4e272",
   "metadata": {
    "scrolled": true
   },
   "outputs": [
    {
     "data": {
      "image/png": "[encoded data removed]",
      "text/plain": [
       "<Figure size 640x480 with 1 Axes>"
      ]
     },
     "metadata": {},
     "output_type": "display_data"
    }
   ],
   "source": [
    "pd.Series(df1_t1_0_view).plot(kind='bar', color='orange', position=0, width=0.4, label='不带#美国留学生标签')\n",
    "pd.Series(df1_t1_a_view).plot(kind='bar', color='skyblue', position=0, width=0.4, label='带#美国留学生标签')\n",
    "\n",
    "\n",
    "plt.title('平均流量比较')\n",
    "plt.ylabel('平均值')\n",
    "plt.legend()\n",
    "plt.show()"
   ]
  },
  {
   "cell_type": "code",
   "execution_count": 216,
   "id": "9c8ba562",
   "metadata": {},
   "outputs": [
    {
     "data": {
      "text/plain": [
       "类别\n",
       "线下交流会     4\n",
       "直播通知      2\n",
       "干货分享      1\n",
       "报名截止日期    1\n",
       "周三直播预告    1\n",
       "Name: count, dtype: int64"
      ]
     },
     "execution_count": 216,
     "metadata": {},
     "output_type": "execute_result"
    }
   ],
   "source": [
    "df1_t1_a['类别'].value_counts()"
   ]
  },
  {
   "cell_type": "code",
   "execution_count": 217,
   "id": "238f6007",
   "metadata": {},
   "outputs": [
    {
     "data": {
      "text/plain": [
       "类别\n",
       "干货分享        15\n",
       "经验分享         9\n",
       "报名截止日期       8\n",
       "课程宣传         8\n",
       "线下交流会        4\n",
       "课程直播预告       4\n",
       "经验分享直播预告     4\n",
       "直播通知         3\n",
       "Name: count, dtype: int64"
      ]
     },
     "execution_count": 217,
     "metadata": {},
     "output_type": "execute_result"
    }
   ],
   "source": [
    "df1_t1_0['类别'].value_counts()"
   ]
  },
  {
   "cell_type": "code",
   "execution_count": 218,
   "id": "47c0829f",
   "metadata": {},
   "outputs": [
    {
     "data": {
      "text/plain": [
       "9"
      ]
     },
     "execution_count": 218,
     "metadata": {},
     "output_type": "execute_result"
    }
   ],
   "source": [
    "len(df1_t1_a)"
   ]
  },
  {
   "cell_type": "code",
   "execution_count": 219,
   "id": "3c73b7c2",
   "metadata": {},
   "outputs": [
    {
     "data": {
      "text/plain": [
       "55"
      ]
     },
     "execution_count": 219,
     "metadata": {},
     "output_type": "execute_result"
    }
   ],
   "source": [
    "len(df1_t1_0)"
   ]
  },
  {
   "cell_type": "code",
   "execution_count": 220,
   "id": "c0607afe",
   "metadata": {},
   "outputs": [],
   "source": [
    "df1_a_m = df1_t1_a[df1_t1_a['类别'] == '线下交流会']\n",
    "df1_0_m = df1_t1_0[df1_t1_0['类别'] == '线下交流会']"
   ]
  },
  {
   "cell_type": "code",
   "execution_count": 221,
   "id": "9d5e49e2",
   "metadata": {},
   "outputs": [],
   "source": [
    "df1_a_m_stats = df1_a_m[['评论数','点赞量','分享数','收藏数','直接涨粉数']].mean()\n",
    "df1_0_m_stats = df1_0_m[['评论数','点赞量','分享数','收藏数','直接涨粉数']].mean()"
   ]
  },
  {
   "cell_type": "code",
   "execution_count": 222,
   "id": "a32c1503",
   "metadata": {},
   "outputs": [
    {
     "data": {
      "image/png": "[encoded data removed]",
      "text/plain": [
       "<Figure size 640x480 with 1 Axes>"
      ]
     },
     "metadata": {},
     "output_type": "display_data"
    }
   ],
   "source": [
    "fig, ax = plt.subplots()\n",
    "df1_a_m_stats.plot(kind='bar', color='skyblue', position=0, width=0.4, label='带#美国留学生标签', ax=ax)\n",
    "df1_0_m_stats.plot(kind='bar', color='orange', position=1, width=0.4, label='不带#美国留学生标签', ax=ax)\n",
    "\n",
    "# Set labels, title, and legend\n",
    "plt.title('线下交流会类别平均流量比较')\n",
    "plt.ylabel('平均值')\n",
    "plt.legend()\n",
    "\n",
    "plt.show()"
   ]
  },
  {
   "cell_type": "code",
   "execution_count": null,
   "id": "9e616ec3",
   "metadata": {},
   "outputs": [],
   "source": []
  }
 ],
 "metadata": {
  "kernelspec": {
   "display_name": "Python 3 (ipykernel)",
   "language": "python",
   "name": "python3"
  },
  "language_info": {
   "codemirror_mode": {
    "name": "ipython",
    "version": 3
   },
   "file_extension": ".py",
   "mimetype": "text/x-python",
   "name": "python",
   "nbconvert_exporter": "python",
   "pygments_lexer": "ipython3",
   "version": "3.11.5"
  }
 },
 "nbformat": 4,
 "nbformat_minor": 5
}
